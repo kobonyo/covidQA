{
 "cells": [
  {
   "cell_type": "code",
   "execution_count": 1,
   "metadata": {},
   "outputs": [
    {
     "name": "stderr",
     "output_type": "stream",
     "text": [
      "C:\\Users\\uroot\\anaconda3\\envs\\ml\\lib\\site-packages\\sklearn\\utils\\deprecation.py:143: FutureWarning: The sklearn.feature_extraction.stop_words module is  deprecated in version 0.22 and will be removed in version 0.24. The corresponding classes / functions should instead be imported from sklearn.feature_extraction.text. Anything that cannot be imported from sklearn.feature_extraction.text is now part of the private API.\n",
      "  warnings.warn(message, FutureWarning)\n"
     ]
    }
   ],
   "source": [
    "import pandas as pd\n",
    "import numpy as np\n",
    "from sklearn.feature_extraction import stop_words\n",
    "import os\n",
    "from nltk.corpus import stopwords \n",
    "import nltk\n",
    "import re\n",
    "from gensim.models import Word2Vec\n",
    "from sklearn.metrics.pairwise import cosine_similarity,euclidean_distances\n",
    "from sklearn.feature_extraction.text import CountVectorizer          #For Bag of words\n",
    "from sklearn.feature_extraction.text import TfidfVectorizer"
   ]
  },
  {
   "cell_type": "code",
   "execution_count": 2,
   "metadata": {},
   "outputs": [],
   "source": [
    "#nltk.download('stopwords')"
   ]
  },
  {
   "cell_type": "code",
   "execution_count": 3,
   "metadata": {},
   "outputs": [],
   "source": [
    "stop = set(['?',',',':','@']) "
   ]
  },
  {
   "cell_type": "code",
   "execution_count": 4,
   "metadata": {},
   "outputs": [],
   "source": [
    "ROOT = '../data/'\n",
    "\n",
    "QA_dict = {}"
   ]
  },
  {
   "cell_type": "code",
   "execution_count": 5,
   "metadata": {},
   "outputs": [
    {
     "data": {
      "text/plain": [
       "['CDC.xlsx',\n",
       " 'Coronavirus (COVID-19) frequently asked questions _ CDC.pdf',\n",
       " 'covidquestionsca.xlsx',\n",
       " 'EAC.xlsx',\n",
       " 'JHU.xlsx',\n",
       " 'MOHKE.xlsx',\n",
       " 'sources.txt',\n",
       " 'WHO.xlsx']"
      ]
     },
     "execution_count": 5,
     "metadata": {},
     "output_type": "execute_result"
    }
   ],
   "source": [
    "os.listdir(ROOT)"
   ]
  },
  {
   "cell_type": "code",
   "execution_count": 6,
   "metadata": {},
   "outputs": [],
   "source": [
    "paths = [ROOT+d for d in os.listdir(ROOT) if d.endswith(\".xlsx\")]"
   ]
  },
  {
   "cell_type": "code",
   "execution_count": 7,
   "metadata": {},
   "outputs": [
    {
     "data": {
      "text/plain": [
       "['../data/CDC.xlsx',\n",
       " '../data/covidquestionsca.xlsx',\n",
       " '../data/EAC.xlsx',\n",
       " '../data/JHU.xlsx',\n",
       " '../data/MOHKE.xlsx',\n",
       " '../data/WHO.xlsx']"
      ]
     },
     "execution_count": 7,
     "metadata": {},
     "output_type": "execute_result"
    }
   ],
   "source": [
    "paths"
   ]
  },
  {
   "cell_type": "code",
   "execution_count": 8,
   "metadata": {},
   "outputs": [],
   "source": [
    "data = [ pd.read_excel(p, names = ['q','a']) for p in paths]"
   ]
  },
  {
   "cell_type": "code",
   "execution_count": 9,
   "metadata": {},
   "outputs": [],
   "source": [
    "QA = pd.DataFrame()"
   ]
  },
  {
   "cell_type": "code",
   "execution_count": 10,
   "metadata": {},
   "outputs": [
    {
     "name": "stdout",
     "output_type": "stream",
     "text": [
      "(116, 2)\n",
      "(10, 2)\n",
      "(26, 2)\n",
      "(86, 2)\n",
      "(85, 2)\n"
     ]
    }
   ],
   "source": [
    "for d in data[:]:\n",
    "    if d.shape[0]>0:\n",
    "        print(d.shape)\n",
    "        QA = pd.concat((QA,d),axis = 0)"
   ]
  },
  {
   "cell_type": "code",
   "execution_count": 11,
   "metadata": {},
   "outputs": [
    {
     "data": {
      "text/plain": [
       "(323, 2)"
      ]
     },
     "execution_count": 11,
     "metadata": {},
     "output_type": "execute_result"
    }
   ],
   "source": [
    "QA.shape"
   ]
  },
  {
   "cell_type": "code",
   "execution_count": 12,
   "metadata": {},
   "outputs": [
    {
     "data": {
      "text/html": [
       "<div>\n",
       "<style scoped>\n",
       "    .dataframe tbody tr th:only-of-type {\n",
       "        vertical-align: middle;\n",
       "    }\n",
       "\n",
       "    .dataframe tbody tr th {\n",
       "        vertical-align: top;\n",
       "    }\n",
       "\n",
       "    .dataframe thead th {\n",
       "        text-align: right;\n",
       "    }\n",
       "</style>\n",
       "<table border=\"1\" class=\"dataframe\">\n",
       "  <thead>\n",
       "    <tr style=\"text-align: right;\">\n",
       "      <th></th>\n",
       "      <th>q</th>\n",
       "      <th>a</th>\n",
       "    </tr>\n",
       "  </thead>\n",
       "  <tbody>\n",
       "    <tr>\n",
       "      <th>4</th>\n",
       "      <td>What are the symptoms of COVID-19?</td>\n",
       "      <td>Some people become infected but don’t develop ...</td>\n",
       "    </tr>\n",
       "    <tr>\n",
       "      <th>73</th>\n",
       "      <td>Can I touch and hold my newborn baby if I have...</td>\n",
       "      <td>Yes. Close contact and early, exclusive breast...</td>\n",
       "    </tr>\n",
       "    <tr>\n",
       "      <th>31</th>\n",
       "      <td>Are women taking oral contraceptives more at r...</td>\n",
       "      <td>There is an elevated risk of clotting from ora...</td>\n",
       "    </tr>\n",
       "    <tr>\n",
       "      <th>3</th>\n",
       "      <td>Why is the virus so quick to spread</td>\n",
       "      <td>There are a couple of factors that help the vi...</td>\n",
       "    </tr>\n",
       "    <tr>\n",
       "      <th>44</th>\n",
       "      <td>How long is the incubation period for COVID-19?</td>\n",
       "      <td>Most estimates of the incubation period for CO...</td>\n",
       "    </tr>\n",
       "    <tr>\n",
       "      <th>36</th>\n",
       "      <td>What is multisystem in ammatory syndrome in ch...</td>\n",
       "      <td>CDC is working with state and local health dep...</td>\n",
       "    </tr>\n",
       "    <tr>\n",
       "      <th>35</th>\n",
       "      <td>Why are there reagent shortages that are impac...</td>\n",
       "      <td>It is unclear why these shortages are occurrin...</td>\n",
       "    </tr>\n",
       "    <tr>\n",
       "      <th>35</th>\n",
       "      <td>Is there a vaccine, drug or treatment for COVI...</td>\n",
       "      <td>The most effective ways to protect yourself an...</td>\n",
       "    </tr>\n",
       "    <tr>\n",
       "      <th>45</th>\n",
       "      <td>How can I protect myself against coronaviruses?</td>\n",
       "      <td>The World Health Organization suggests avoidin...</td>\n",
       "    </tr>\n",
       "    <tr>\n",
       "      <th>58</th>\n",
       "      <td>Is there anything I should not do?</td>\n",
       "      <td>Taking antibiotics</td>\n",
       "    </tr>\n",
       "  </tbody>\n",
       "</table>\n",
       "</div>"
      ],
      "text/plain": [
       "                                                    q  \\\n",
       "4                  What are the symptoms of COVID-19?   \n",
       "73  Can I touch and hold my newborn baby if I have...   \n",
       "31  Are women taking oral contraceptives more at r...   \n",
       "3                 Why is the virus so quick to spread   \n",
       "44    How long is the incubation period for COVID-19?   \n",
       "36  What is multisystem in ammatory syndrome in ch...   \n",
       "35  Why are there reagent shortages that are impac...   \n",
       "35  Is there a vaccine, drug or treatment for COVI...   \n",
       "45    How can I protect myself against coronaviruses?   \n",
       "58                 Is there anything I should not do?   \n",
       "\n",
       "                                                    a  \n",
       "4   Some people become infected but don’t develop ...  \n",
       "73  Yes. Close contact and early, exclusive breast...  \n",
       "31  There is an elevated risk of clotting from ora...  \n",
       "3   There are a couple of factors that help the vi...  \n",
       "44  Most estimates of the incubation period for CO...  \n",
       "36  CDC is working with state and local health dep...  \n",
       "35  It is unclear why these shortages are occurrin...  \n",
       "35  The most effective ways to protect yourself an...  \n",
       "45  The World Health Organization suggests avoidin...  \n",
       "58                                 Taking antibiotics  "
      ]
     },
     "execution_count": 12,
     "metadata": {},
     "output_type": "execute_result"
    }
   ],
   "source": [
    "QA.sample(10)"
   ]
  },
  {
   "cell_type": "code",
   "execution_count": 13,
   "metadata": {},
   "outputs": [],
   "source": [
    " snow = nltk.stem.SnowballStemmer('english')"
   ]
  },
  {
   "cell_type": "code",
   "execution_count": 14,
   "metadata": {},
   "outputs": [],
   "source": [
    "def clean(q_a):\n",
    "    temp = []\n",
    "    snow = nltk.stem.SnowballStemmer('english')\n",
    "    for sentence in q_a:\n",
    "        sentence = str(sentence)\n",
    "        sentence = sentence.lower()                 # Converting to lowercase\n",
    "        cleanr = re.compile('<.*?>')\n",
    "        sentence = re.sub(cleanr, ' ', sentence)        #Removing HTML tags\n",
    "        sentence = re.sub(r'[?|!|\\'|\"|#]\\d',r'',sentence)\n",
    "        sentence = re.sub(r'[.|,|)|(|\\|/]@',r' ',sentence)        #Removing Punctuations\n",
    "        words = [snow.stem(word) for word in sentence.split() if word not in stop]   # Stemming and removing stopwords\n",
    "        temp.append(words)\n",
    "    q_a = temp  \n",
    "    return q_a"
   ]
  },
  {
   "cell_type": "code",
   "execution_count": 15,
   "metadata": {},
   "outputs": [],
   "source": [
    "def clean_col(c):\n",
    "    sent = []\n",
    "    for row in c:\n",
    "        sequ = ''\n",
    "        for word in row:\n",
    "            sequ = sequ + ' ' + word\n",
    "        sent.append(sequ)\n",
    "    c = sent\n",
    "    return c"
   ]
  },
  {
   "cell_type": "code",
   "execution_count": 23,
   "metadata": {},
   "outputs": [],
   "source": [
    "def combine_cols(l1,l2):\n",
    "    r = []\n",
    "    for q, a in  zip(l1,l2):\n",
    "        r.append(q+\" \"+a)\n",
    "    return r"
   ]
  },
  {
   "cell_type": "code",
   "execution_count": 24,
   "metadata": {},
   "outputs": [],
   "source": [
    "q_new =  clean_col(clean(QA['q']))\n",
    "a_new =  clean_col(clean(QA['a']))"
   ]
  },
  {
   "cell_type": "code",
   "execution_count": 25,
   "metadata": {},
   "outputs": [],
   "source": [
    "qa_combined = combine_cols(q_new,a_new)"
   ]
  },
  {
   "cell_type": "code",
   "execution_count": 26,
   "metadata": {},
   "outputs": [],
   "source": [
    "QA['q_new'] =  q_new\n",
    "QA['a_new'] = a_new\n",
    "QA['qa_combined'] = qa_combined"
   ]
  },
  {
   "cell_type": "code",
   "execution_count": 27,
   "metadata": {},
   "outputs": [
    {
     "data": {
      "text/html": [
       "<div>\n",
       "<style scoped>\n",
       "    .dataframe tbody tr th:only-of-type {\n",
       "        vertical-align: middle;\n",
       "    }\n",
       "\n",
       "    .dataframe tbody tr th {\n",
       "        vertical-align: top;\n",
       "    }\n",
       "\n",
       "    .dataframe thead th {\n",
       "        text-align: right;\n",
       "    }\n",
       "</style>\n",
       "<table border=\"1\" class=\"dataframe\">\n",
       "  <thead>\n",
       "    <tr style=\"text-align: right;\">\n",
       "      <th></th>\n",
       "      <th>q</th>\n",
       "      <th>a</th>\n",
       "      <th>q_new</th>\n",
       "      <th>a_new</th>\n",
       "      <th>qa_combined</th>\n",
       "    </tr>\n",
       "  </thead>\n",
       "  <tbody>\n",
       "    <tr>\n",
       "      <th>0</th>\n",
       "      <td>What is a novel coronavirus?</td>\n",
       "      <td>A novel coronavirus is a new coronavirus that ...</td>\n",
       "      <td>what is a novel coronavirus?</td>\n",
       "      <td>a novel coronavirus is a new coronavirus that...</td>\n",
       "      <td>what is a novel coronavirus?  a novel coronav...</td>\n",
       "    </tr>\n",
       "    <tr>\n",
       "      <th>1</th>\n",
       "      <td>Why is the disease being called coronavirus di...</td>\n",
       "      <td>On February 11, 2020 the World Health Organiza...</td>\n",
       "      <td>whi is the diseas be call coronavirus diseas ...</td>\n",
       "      <td>on februari 11, 2020 the world health organ a...</td>\n",
       "      <td>whi is the diseas be call coronavirus diseas ...</td>\n",
       "    </tr>\n",
       "    <tr>\n",
       "      <th>2</th>\n",
       "      <td>Why might someone blame or avoid individuals a...</td>\n",
       "      <td>People in the U.S. may be worried or anxious a...</td>\n",
       "      <td>whi might someon blame or avoid individu and ...</td>\n",
       "      <td>peopl in the u.s. may be worri or anxious abo...</td>\n",
       "      <td>whi might someon blame or avoid individu and ...</td>\n",
       "    </tr>\n",
       "    <tr>\n",
       "      <th>3</th>\n",
       "      <td>How can people help stop stigma related to COV...</td>\n",
       "      <td>People can ght stigma by providing social supp...</td>\n",
       "      <td>how can peopl help stop stigma relat to covid...</td>\n",
       "      <td>peopl can ght stigma by provid social support...</td>\n",
       "      <td>how can peopl help stop stigma relat to covid...</td>\n",
       "    </tr>\n",
       "    <tr>\n",
       "      <th>4</th>\n",
       "      <td>Why do some state’s COVID-19 case numbers some...</td>\n",
       "      <td>CDC’s overall case numbers are validated throu...</td>\n",
       "      <td>whi do some state covid-19 case number someti...</td>\n",
       "      <td>cdc overal case number are valid through a co...</td>\n",
       "      <td>whi do some state covid-19 case number someti...</td>\n",
       "    </tr>\n",
       "  </tbody>\n",
       "</table>\n",
       "</div>"
      ],
      "text/plain": [
       "                                                   q  \\\n",
       "0                       What is a novel coronavirus?   \n",
       "1  Why is the disease being called coronavirus di...   \n",
       "2  Why might someone blame or avoid individuals a...   \n",
       "3  How can people help stop stigma related to COV...   \n",
       "4  Why do some state’s COVID-19 case numbers some...   \n",
       "\n",
       "                                                   a  \\\n",
       "0  A novel coronavirus is a new coronavirus that ...   \n",
       "1  On February 11, 2020 the World Health Organiza...   \n",
       "2  People in the U.S. may be worried or anxious a...   \n",
       "3  People can ght stigma by providing social supp...   \n",
       "4  CDC’s overall case numbers are validated throu...   \n",
       "\n",
       "                                               q_new  \\\n",
       "0                       what is a novel coronavirus?   \n",
       "1   whi is the diseas be call coronavirus diseas ...   \n",
       "2   whi might someon blame or avoid individu and ...   \n",
       "3   how can peopl help stop stigma relat to covid...   \n",
       "4   whi do some state covid-19 case number someti...   \n",
       "\n",
       "                                               a_new  \\\n",
       "0   a novel coronavirus is a new coronavirus that...   \n",
       "1   on februari 11, 2020 the world health organ a...   \n",
       "2   peopl in the u.s. may be worri or anxious abo...   \n",
       "3   peopl can ght stigma by provid social support...   \n",
       "4   cdc overal case number are valid through a co...   \n",
       "\n",
       "                                         qa_combined  \n",
       "0   what is a novel coronavirus?  a novel coronav...  \n",
       "1   whi is the diseas be call coronavirus diseas ...  \n",
       "2   whi might someon blame or avoid individu and ...  \n",
       "3   how can peopl help stop stigma relat to covid...  \n",
       "4   whi do some state covid-19 case number someti...  "
      ]
     },
     "execution_count": 27,
     "metadata": {},
     "output_type": "execute_result"
    }
   ],
   "source": [
    "QA.head()"
   ]
  },
  {
   "cell_type": "code",
   "execution_count": 29,
   "metadata": {},
   "outputs": [],
   "source": [
    "count_vect = TfidfVectorizer(ngram_range=(1,2))\n",
    "bow_data = count_vect.fit_transform(QA['qa_combined'])"
   ]
  },
  {
   "cell_type": "code",
   "execution_count": 30,
   "metadata": {},
   "outputs": [],
   "source": [
    "tq = [\"cornonavirus\"]\n",
    "tq = clean(tq)\n",
    "tq = clean_col(tq)"
   ]
  },
  {
   "cell_type": "code",
   "execution_count": 31,
   "metadata": {},
   "outputs": [],
   "source": [
    "r = count_vect.transform(tq)"
   ]
  },
  {
   "cell_type": "code",
   "execution_count": 32,
   "metadata": {},
   "outputs": [],
   "source": [
    "for i,(q , a) in enumerate(zip(QA['q'],QA['a'])):\n",
    "    QA_dict[i] = [q,a]                   "
   ]
  },
  {
   "cell_type": "code",
   "execution_count": 33,
   "metadata": {},
   "outputs": [],
   "source": [
    "def cv_test(q):\n",
    "    tq = [q]\n",
    "    tq = clean(tq)\n",
    "    tq = clean_col(tq)\n",
    "    r = count_vect.transform(tq)\n",
    "    return r"
   ]
  },
  {
   "cell_type": "code",
   "execution_count": 34,
   "metadata": {
    "scrolled": true
   },
   "outputs": [
    {
     "data": {
      "text/plain": [
       "35     Why are there reagent shortages that are impac...\n",
       "1                        Why is it called a coronavirus?\n",
       "23                        How can I help protect myself?\n",
       "105                                 Can I walk my dog?\\n\n",
       "24      Can I get COVID-19 through second-hand clothe...\n",
       "32                            When is testing important?\n",
       "81                 What does more severe illness mean?\\n\n",
       "4              Who is most at risk of catching COVID-19?\n",
       "59                 Is the source causing COVID-19 known?\n",
       "14     Can someone who has been quarantined for COVID...\n",
       "15                  Is there a vaccine against COVID-19?\n",
       "57     Are there acceptable designs of PPE that local...\n",
       "17     What can I do to protect myself and prevent th...\n",
       "83     Are people with high blood pressure (hypertens...\n",
       "17     What can I do to ensure my workplace is safe f...\n",
       "68     Can people expect to be immune once they’ve ha...\n",
       "114    What are community mitigation actions for COVI...\n",
       "22     What is known about how this virus responds to...\n",
       "11     What is known about young children and whether...\n",
       "92     What is routine cleaning? How frequently shoul...\n",
       "Name: q, dtype: object"
      ]
     },
     "execution_count": 34,
     "metadata": {},
     "output_type": "execute_result"
    }
   ],
   "source": [
    "QA['q'].sample(20)"
   ]
  },
  {
   "cell_type": "code",
   "execution_count": 35,
   "metadata": {},
   "outputs": [
    {
     "data": {
      "text/plain": [
       "True"
      ]
     },
     "execution_count": 35,
     "metadata": {},
     "output_type": "execute_result"
    }
   ],
   "source": [
    "QA.shape[0] == bow_data.shape[0]"
   ]
  },
  {
   "cell_type": "code",
   "execution_count": 36,
   "metadata": {},
   "outputs": [
    {
     "data": {
      "text/plain": [
       "(1, 16234)"
      ]
     },
     "execution_count": 36,
     "metadata": {},
     "output_type": "execute_result"
    }
   ],
   "source": [
    "bow_data[0].shape"
   ]
  },
  {
   "cell_type": "code",
   "execution_count": 37,
   "metadata": {},
   "outputs": [
    {
     "data": {
      "text/plain": [
       "(1, 16234)"
      ]
     },
     "execution_count": 37,
     "metadata": {},
     "output_type": "execute_result"
    }
   ],
   "source": [
    "r.shape"
   ]
  },
  {
   "cell_type": "code",
   "execution_count": null,
   "metadata": {
    "scrolled": true
   },
   "outputs": [
    {
     "name": "stdout",
     "output_type": "stream",
     "text": [
      "Q: what is coronavirus\n",
      "A:  Coronaviruses are a large family of viruses which may cause illness in animals or humans. \n",
      "Q: keep my family safe\n",
      "A:  Teach and reinforce everyday preventive actions.\n",
      "Parents and caretakers play an important role in teaching children to wash their hands. Explain that hand\n",
      "washing can keep them healthy and stop the virus from spreading to others.\n",
      "Be a good role model—if you wash your hands often, they’re more likely to do the same.\n",
      "Make handwashing a family activity.\n",
      "\n",
      "Q: signs\n",
      "A:  If you develop any of the following emergency warning signs for COVID-19, get medical attention immediately by calling your doctor's office. Emergency warning signs include (but are not limited to):\n",
      "\n",
      "Trouble breathing\n",
      "Persistent pain or pressure in the chest\n",
      "New confusion or inability to arouse\n",
      "Bluish lips or face\n",
      "Q: testing where\n",
      "A:  There are actually many tests being used to diagnose COVID-19 that the U.S. Food & Drug Administration (FDA) has\n",
      "authorized for use during the current emergency. All of these viral tests identify the virus in samples from the\n",
      "respiratory system, such as from nasal or nasopharyngeal swabs. Some tests are conducted at the testing site you\n",
      "visit, and results are available to you within minutes. Other tests must be sent to a laboratory to analyze, a process\n",
      "that takes 1-2 days once the lab receives your samples. Two tests allow you to collect your own sample at home –\n",
      "either a nasal swab  or a saliva sample  – but you will still need to send the sample to a lab for processing.\n",
      "Locations and types of testing sites vary depending on where you live (see question: Where can I get tested). Check\n",
      "with your testing site to learn which test it uses. You can nd a patient information sheet about each test on the FDA\n",
      "website  .\n",
      "\n",
      "Q: depression\n",
      "A:  A novel coronavirus is a new coronavirus that has not been previously identied. The virus causing coronavirus\n",
      "disease 2019 (COVID-19), is not the same as the coronaviruses that commonly circulate among humans and cause\n",
      "mild illness, like the common cold.\n",
      "\n",
      "Q: can the virus cause depression\n",
      "A:  Studies to date suggest that the virus that causes COVID-19 is mainly transmitted through contact with respiratory droplets rather than through the air. \n",
      "Q: when will it end\n",
      "A:  According to the World Health Organization, all available evidence suggests that the novel coronavirus first appeared in China at the end of 2019 and was not manipulated or produced in a laboratory.\n",
      "Q: does it kill people\n",
      "A:  Developing a vaccine takes time, in most cases several years, as they need to undergo extensive testing in clinical trials to determine their safety and efficacy.\n",
      "Q:  What is CDC doing about COVID-19\n",
      "A:  CDC is working with other federal partners in a whole-of-government response. This is an emerging, rapidly evolving\n",
      "situation and CDC will continue to provide updated information as it becomes available. CDC works 24/7 to protect\n",
      "people’s health. More information about CDC’s response to COVID-19 is available online.\n",
      "\n",
      "Q: do we have treatement?\n",
      "A:  Generally coronaviruses survive for shorter periods at higher temperatures and higher humidity than in cooler or\n",
      "dryer environments. However, we don’t have direct data for this virus, nor do we have direct data for a temperature-\n",
      "based cuto for inactivation at this point. The necessary temperature would also be based on the materials of the\n",
      "surface, the environment, etc. Regardless of temperature please follow CDC’s guidance for cleaning and disinfection.\n",
      "\n",
      "Q: do we have treatment?\n",
      "A:  Generally coronaviruses survive for shorter periods at higher temperatures and higher humidity than in cooler or\n",
      "dryer environments. However, we don’t have direct data for this virus, nor do we have direct data for a temperature-\n",
      "based cuto for inactivation at this point. The necessary temperature would also be based on the materials of the\n",
      "surface, the environment, etc. Regardless of temperature please follow CDC’s guidance for cleaning and disinfection.\n",
      "\n",
      "Q: jogging\n",
      "A:  No. The majority of transmissions of this virus occur through droplet transmission. This means that a sick patient who coughs or sneezes is expelling virus through droplets that don’t travel that far. They tend to fall to surfaces within a six-foot distance. If you touch a surface that is contaminated with droplets from someone who has coughed or sneezed on it and then you touch your eyes or nose or mouth, you could potentially become infected that way. \n",
      "Q: pregnant women\n",
      "A:  So far, we haven’t seen any particular data that pregnant women are at greater risk. However, there is significant concern that this may be the case.\n",
      "Q: Should I stay inside the house\n",
      "A:  Yes. This virus has been very hard to control, which suggests asymptomatic transmission, and there have been a number of studies documenting asymptomatic transmission. That’s one reason why you should stay home if someone in your household may have coronavirus infection.\n"
     ]
    }
   ],
   "source": [
    "while True:\n",
    "    q = input(\"Q: \")\n",
    "    q = cv_test(q)\n",
    "    ranks = np.array([cosine_similarity(q,bow_data[i]) for i in range(QA.shape[0])]).reshape(QA.shape[0],1)\n",
    "    loc = np.argmax(ranks)  \n",
    "    a = QA_dict[loc][1]\n",
    "    print(\"A: \",a)"
   ]
  },
  {
   "cell_type": "code",
   "execution_count": null,
   "metadata": {},
   "outputs": [],
   "source": []
  }
 ],
 "metadata": {
  "kernelspec": {
   "display_name": "Python [conda env:ml]",
   "language": "python",
   "name": "conda-env-ml-py"
  },
  "language_info": {
   "codemirror_mode": {
    "name": "ipython",
    "version": 3
   },
   "file_extension": ".py",
   "mimetype": "text/x-python",
   "name": "python",
   "nbconvert_exporter": "python",
   "pygments_lexer": "ipython3",
   "version": "3.6.10"
  }
 },
 "nbformat": 4,
 "nbformat_minor": 4
}
