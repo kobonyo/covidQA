{
 "cells": [
  {
   "cell_type": "code",
   "execution_count": 1,
   "metadata": {},
   "outputs": [
    {
     "name": "stderr",
     "output_type": "stream",
     "text": [
      "C:\\Users\\uroot\\anaconda3\\envs\\ml\\lib\\site-packages\\sklearn\\utils\\deprecation.py:143: FutureWarning: The sklearn.feature_extraction.stop_words module is  deprecated in version 0.22 and will be removed in version 0.24. The corresponding classes / functions should instead be imported from sklearn.feature_extraction.text. Anything that cannot be imported from sklearn.feature_extraction.text is now part of the private API.\n",
      "  warnings.warn(message, FutureWarning)\n"
     ]
    }
   ],
   "source": [
    "import pandas as pd\n",
    "import numpy as np\n",
    "from sklearn.feature_extraction import stop_words\n",
    "import os\n",
    "from nltk.corpus import stopwords \n",
    "import nltk\n",
    "import re\n",
    "from gensim.models import Word2Vec\n",
    "from sklearn.metrics.pairwise import cosine_similarity,euclidean_distances\n",
    "from sklearn.feature_extraction.text import CountVectorizer          #For Bag of words\n",
    "from sklearn.feature_extraction.text import TfidfVectorizer"
   ]
  },
  {
   "cell_type": "code",
   "execution_count": 2,
   "metadata": {},
   "outputs": [],
   "source": [
    "#nltk.download('stopwords')"
   ]
  },
  {
   "cell_type": "code",
   "execution_count": 3,
   "metadata": {},
   "outputs": [],
   "source": [
    "stop = set(['?',',',':','@']) "
   ]
  },
  {
   "cell_type": "code",
   "execution_count": 4,
   "metadata": {},
   "outputs": [],
   "source": [
    "ROOT = '../data/'\n",
    "\n",
    "QA_dict = {}"
   ]
  },
  {
   "cell_type": "code",
   "execution_count": 5,
   "metadata": {},
   "outputs": [
    {
     "data": {
      "text/plain": [
       "['CDC.xlsx',\n",
       " 'Coronavirus (COVID-19) frequently asked questions _ CDC.pdf',\n",
       " 'covidquestionsca.xlsx',\n",
       " 'EAC.xlsx',\n",
       " 'JHU.xlsx',\n",
       " 'MOHKE.xlsx',\n",
       " 'sources.txt',\n",
       " 'WHO.xlsx']"
      ]
     },
     "execution_count": 5,
     "metadata": {},
     "output_type": "execute_result"
    }
   ],
   "source": [
    "os.listdir(ROOT)"
   ]
  },
  {
   "cell_type": "code",
   "execution_count": 6,
   "metadata": {},
   "outputs": [],
   "source": [
    "paths = [ROOT+d for d in os.listdir(ROOT) if d.endswith(\".xlsx\")]"
   ]
  },
  {
   "cell_type": "code",
   "execution_count": 7,
   "metadata": {},
   "outputs": [
    {
     "data": {
      "text/plain": [
       "['../data/CDC.xlsx',\n",
       " '../data/covidquestionsca.xlsx',\n",
       " '../data/EAC.xlsx',\n",
       " '../data/JHU.xlsx',\n",
       " '../data/MOHKE.xlsx',\n",
       " '../data/WHO.xlsx']"
      ]
     },
     "execution_count": 7,
     "metadata": {},
     "output_type": "execute_result"
    }
   ],
   "source": [
    "paths"
   ]
  },
  {
   "cell_type": "code",
   "execution_count": 8,
   "metadata": {},
   "outputs": [],
   "source": [
    "data = [ pd.read_excel(p, names = ['q','a']) for p in paths]"
   ]
  },
  {
   "cell_type": "code",
   "execution_count": 9,
   "metadata": {},
   "outputs": [],
   "source": [
    "QA = pd.DataFrame()"
   ]
  },
  {
   "cell_type": "code",
   "execution_count": 10,
   "metadata": {},
   "outputs": [
    {
     "name": "stdout",
     "output_type": "stream",
     "text": [
      "(116, 2)\n",
      "(10, 2)\n",
      "(26, 2)\n",
      "(86, 2)\n",
      "(85, 2)\n"
     ]
    }
   ],
   "source": [
    "for d in data[:]:\n",
    "    if d.shape[0]>0:\n",
    "        print(d.shape)\n",
    "        QA = pd.concat((QA,d),axis = 0)"
   ]
  },
  {
   "cell_type": "code",
   "execution_count": 11,
   "metadata": {},
   "outputs": [
    {
     "data": {
      "text/plain": [
       "(323, 2)"
      ]
     },
     "execution_count": 11,
     "metadata": {},
     "output_type": "execute_result"
    }
   ],
   "source": [
    "QA.shape"
   ]
  },
  {
   "cell_type": "code",
   "execution_count": 12,
   "metadata": {},
   "outputs": [
    {
     "data": {
      "text/html": [
       "<div>\n",
       "<style scoped>\n",
       "    .dataframe tbody tr th:only-of-type {\n",
       "        vertical-align: middle;\n",
       "    }\n",
       "\n",
       "    .dataframe tbody tr th {\n",
       "        vertical-align: top;\n",
       "    }\n",
       "\n",
       "    .dataframe thead th {\n",
       "        text-align: right;\n",
       "    }\n",
       "</style>\n",
       "<table border=\"1\" class=\"dataframe\">\n",
       "  <thead>\n",
       "    <tr style=\"text-align: right;\">\n",
       "      <th></th>\n",
       "      <th>q</th>\n",
       "      <th>a</th>\n",
       "    </tr>\n",
       "  </thead>\n",
       "  <tbody>\n",
       "    <tr>\n",
       "      <th>9</th>\n",
       "      <td>Can the virus that causes COVID-19 be transmit...</td>\n",
       "      <td>Studies to date suggest that the virus that ca...</td>\n",
       "    </tr>\n",
       "    <tr>\n",
       "      <th>50</th>\n",
       "      <td>What if my child or someone else in the home i...</td>\n",
       "      <td>If your child with special healthcare needs be...</td>\n",
       "    </tr>\n",
       "    <tr>\n",
       "      <th>33</th>\n",
       "      <td>Is there a vaccine, drug or treatment for COVI...</td>\n",
       "      <td>Those affected should receive care to relieve ...</td>\n",
       "    </tr>\n",
       "    <tr>\n",
       "      <th>23</th>\n",
       "      <td>How safe are goods from China?</td>\n",
       "      <td>Scientific experiments showed that the virus t...</td>\n",
       "    </tr>\n",
       "    <tr>\n",
       "      <th>8</th>\n",
       "      <td>How does COVID-19 spread?</td>\n",
       "      <td>People can also catch COVID-19 if they breathe...</td>\n",
       "    </tr>\n",
       "    <tr>\n",
       "      <th>75</th>\n",
       "      <td>How are COVID-19 and influenza viruses similar?</td>\n",
       "      <td>Both viruses are transmitted by contact, dropl...</td>\n",
       "    </tr>\n",
       "    <tr>\n",
       "      <th>13</th>\n",
       "      <td>Can someone who has had COVID-19 spread the il...</td>\n",
       "      <td>The virus that causes COVID-19 is spreading fr...</td>\n",
       "    </tr>\n",
       "    <tr>\n",
       "      <th>81</th>\n",
       "      <td>Are smokers and tobacco users at higher risk o...</td>\n",
       "      <td>Smoking products such as water pipes often inv...</td>\n",
       "    </tr>\n",
       "    <tr>\n",
       "      <th>80</th>\n",
       "      <td>For businesses that remain open, what are best...</td>\n",
       "      <td>CDC has released guidelines for infection cont...</td>\n",
       "    </tr>\n",
       "    <tr>\n",
       "      <th>57</th>\n",
       "      <td>How can I prepare in case my child’s school, c...</td>\n",
       "      <td>Talk to the school or facility about their eme...</td>\n",
       "    </tr>\n",
       "  </tbody>\n",
       "</table>\n",
       "</div>"
      ],
      "text/plain": [
       "                                                    q  \\\n",
       "9   Can the virus that causes COVID-19 be transmit...   \n",
       "50  What if my child or someone else in the home i...   \n",
       "33  Is there a vaccine, drug or treatment for COVI...   \n",
       "23                     How safe are goods from China?   \n",
       "8                           How does COVID-19 spread?   \n",
       "75    How are COVID-19 and influenza viruses similar?   \n",
       "13  Can someone who has had COVID-19 spread the il...   \n",
       "81  Are smokers and tobacco users at higher risk o...   \n",
       "80  For businesses that remain open, what are best...   \n",
       "57  How can I prepare in case my child’s school, c...   \n",
       "\n",
       "                                                    a  \n",
       "9   Studies to date suggest that the virus that ca...  \n",
       "50  If your child with special healthcare needs be...  \n",
       "33  Those affected should receive care to relieve ...  \n",
       "23  Scientific experiments showed that the virus t...  \n",
       "8   People can also catch COVID-19 if they breathe...  \n",
       "75  Both viruses are transmitted by contact, dropl...  \n",
       "13  The virus that causes COVID-19 is spreading fr...  \n",
       "81  Smoking products such as water pipes often inv...  \n",
       "80  CDC has released guidelines for infection cont...  \n",
       "57  Talk to the school or facility about their eme...  "
      ]
     },
     "execution_count": 12,
     "metadata": {},
     "output_type": "execute_result"
    }
   ],
   "source": [
    "QA.sample(10)"
   ]
  },
  {
   "cell_type": "code",
   "execution_count": 13,
   "metadata": {},
   "outputs": [],
   "source": [
    " snow = nltk.stem.SnowballStemmer('english')"
   ]
  },
  {
   "cell_type": "code",
   "execution_count": 14,
   "metadata": {},
   "outputs": [],
   "source": [
    "def clean(q_a):\n",
    "    temp = []\n",
    "    snow = nltk.stem.SnowballStemmer('english')\n",
    "    for sentence in q_a:\n",
    "        sentence = str(sentence)\n",
    "        sentence = sentence.lower()                 # Converting to lowercase\n",
    "        cleanr = re.compile('<.*?>')\n",
    "        sentence = re.sub(cleanr, ' ', sentence)        #Removing HTML tags\n",
    "        sentence = re.sub(r'[?|!|\\'|\"|#]\\d',r'',sentence)\n",
    "        sentence = re.sub(r'[.|,|)|(|\\|/]@',r' ',sentence)        #Removing Punctuations\n",
    "        words = [snow.stem(word) for word in sentence.split() if word not in stop]   # Stemming and removing stopwords\n",
    "        temp.append(words)\n",
    "    q_a = temp  \n",
    "    return q_a"
   ]
  },
  {
   "cell_type": "code",
   "execution_count": 15,
   "metadata": {},
   "outputs": [],
   "source": [
    "def clean_col(c):\n",
    "    sent = []\n",
    "    for row in c:\n",
    "        sequ = ''\n",
    "        for word in row:\n",
    "            sequ = sequ + ' ' + word\n",
    "        sent.append(sequ)\n",
    "    c = sent\n",
    "    return c"
   ]
  },
  {
   "cell_type": "code",
   "execution_count": 16,
   "metadata": {},
   "outputs": [],
   "source": [
    "q_new =  clean_col(clean(QA['q']))\n",
    "a_new =  clean_col(clean(QA['a']))"
   ]
  },
  {
   "cell_type": "code",
   "execution_count": 17,
   "metadata": {},
   "outputs": [],
   "source": [
    "QA['q_new'] =  q_new\n",
    "QA['a_new'] = a_new"
   ]
  },
  {
   "cell_type": "code",
   "execution_count": 18,
   "metadata": {},
   "outputs": [
    {
     "data": {
      "text/html": [
       "<div>\n",
       "<style scoped>\n",
       "    .dataframe tbody tr th:only-of-type {\n",
       "        vertical-align: middle;\n",
       "    }\n",
       "\n",
       "    .dataframe tbody tr th {\n",
       "        vertical-align: top;\n",
       "    }\n",
       "\n",
       "    .dataframe thead th {\n",
       "        text-align: right;\n",
       "    }\n",
       "</style>\n",
       "<table border=\"1\" class=\"dataframe\">\n",
       "  <thead>\n",
       "    <tr style=\"text-align: right;\">\n",
       "      <th></th>\n",
       "      <th>q</th>\n",
       "      <th>a</th>\n",
       "      <th>q_new</th>\n",
       "      <th>a_new</th>\n",
       "    </tr>\n",
       "  </thead>\n",
       "  <tbody>\n",
       "    <tr>\n",
       "      <th>0</th>\n",
       "      <td>What is a novel coronavirus?</td>\n",
       "      <td>A novel coronavirus is a new coronavirus that ...</td>\n",
       "      <td>what is a novel coronavirus?</td>\n",
       "      <td>a novel coronavirus is a new coronavirus that...</td>\n",
       "    </tr>\n",
       "    <tr>\n",
       "      <th>1</th>\n",
       "      <td>Why is the disease being called coronavirus di...</td>\n",
       "      <td>On February 11, 2020 the World Health Organiza...</td>\n",
       "      <td>whi is the diseas be call coronavirus diseas ...</td>\n",
       "      <td>on februari 11, 2020 the world health organ a...</td>\n",
       "    </tr>\n",
       "    <tr>\n",
       "      <th>2</th>\n",
       "      <td>Why might someone blame or avoid individuals a...</td>\n",
       "      <td>People in the U.S. may be worried or anxious a...</td>\n",
       "      <td>whi might someon blame or avoid individu and ...</td>\n",
       "      <td>peopl in the u.s. may be worri or anxious abo...</td>\n",
       "    </tr>\n",
       "    <tr>\n",
       "      <th>3</th>\n",
       "      <td>How can people help stop stigma related to COV...</td>\n",
       "      <td>People can ght stigma by providing social supp...</td>\n",
       "      <td>how can peopl help stop stigma relat to covid...</td>\n",
       "      <td>peopl can ght stigma by provid social support...</td>\n",
       "    </tr>\n",
       "    <tr>\n",
       "      <th>4</th>\n",
       "      <td>Why do some state’s COVID-19 case numbers some...</td>\n",
       "      <td>CDC’s overall case numbers are validated throu...</td>\n",
       "      <td>whi do some state covid-19 case number someti...</td>\n",
       "      <td>cdc overal case number are valid through a co...</td>\n",
       "    </tr>\n",
       "  </tbody>\n",
       "</table>\n",
       "</div>"
      ],
      "text/plain": [
       "                                                   q  \\\n",
       "0                       What is a novel coronavirus?   \n",
       "1  Why is the disease being called coronavirus di...   \n",
       "2  Why might someone blame or avoid individuals a...   \n",
       "3  How can people help stop stigma related to COV...   \n",
       "4  Why do some state’s COVID-19 case numbers some...   \n",
       "\n",
       "                                                   a  \\\n",
       "0  A novel coronavirus is a new coronavirus that ...   \n",
       "1  On February 11, 2020 the World Health Organiza...   \n",
       "2  People in the U.S. may be worried or anxious a...   \n",
       "3  People can ght stigma by providing social supp...   \n",
       "4  CDC’s overall case numbers are validated throu...   \n",
       "\n",
       "                                               q_new  \\\n",
       "0                       what is a novel coronavirus?   \n",
       "1   whi is the diseas be call coronavirus diseas ...   \n",
       "2   whi might someon blame or avoid individu and ...   \n",
       "3   how can peopl help stop stigma relat to covid...   \n",
       "4   whi do some state covid-19 case number someti...   \n",
       "\n",
       "                                               a_new  \n",
       "0   a novel coronavirus is a new coronavirus that...  \n",
       "1   on februari 11, 2020 the world health organ a...  \n",
       "2   peopl in the u.s. may be worri or anxious abo...  \n",
       "3   peopl can ght stigma by provid social support...  \n",
       "4   cdc overal case number are valid through a co...  "
      ]
     },
     "execution_count": 18,
     "metadata": {},
     "output_type": "execute_result"
    }
   ],
   "source": [
    "QA.head()"
   ]
  },
  {
   "cell_type": "code",
   "execution_count": 20,
   "metadata": {},
   "outputs": [],
   "source": [
    "count_vect = TfidfVectorizer(ngram_range=(1,2))\n",
    "bow_data = count_vect.fit_transform(QA['q_new'])"
   ]
  },
  {
   "cell_type": "code",
   "execution_count": 21,
   "metadata": {},
   "outputs": [],
   "source": [
    "tq = [\"cornonavirus\"]\n",
    "tq = clean(tq)\n",
    "tq = clean_col(tq)"
   ]
  },
  {
   "cell_type": "code",
   "execution_count": 22,
   "metadata": {},
   "outputs": [],
   "source": [
    "r = count_vect.transform(tq)"
   ]
  },
  {
   "cell_type": "code",
   "execution_count": 23,
   "metadata": {},
   "outputs": [],
   "source": [
    "for i,(q , a) in enumerate(zip(QA['q'],QA['a'])):\n",
    "    QA_dict[i] = [q,a]                   "
   ]
  },
  {
   "cell_type": "code",
   "execution_count": 24,
   "metadata": {},
   "outputs": [],
   "source": [
    "def cv_test(q):\n",
    "    tq = [q]\n",
    "    tq = clean(tq)\n",
    "    tq = clean_col(tq)\n",
    "    r = count_vect.transform(tq)\n",
    "    return r"
   ]
  },
  {
   "cell_type": "code",
   "execution_count": 25,
   "metadata": {
    "scrolled": true
   },
   "outputs": [
    {
     "data": {
      "text/plain": [
       "106         Can I take my dog to daycare or a groomer?\\n\n",
       "3                     What are the symptoms of COVID-19?\n",
       "27          Who is at risk of developing severe illness?\n",
       "2                      What is different about the virus\n",
       "34     Is there a vaccine, drug or treatment for COVI...\n",
       "100       Do I need to get my pet tested for COVID-19?\\n\n",
       "48     Can humans be infected with the COVID-19 from ...\n",
       "95     How long do companies need to close for disinf...\n",
       "20     Are Africans less at risk of contracting the C...\n",
       "15     What can I do to protect myself and prevent th...\n",
       "24                    How likely am I to catch COVID-19?\n",
       "46     Is my child with an underlying medical conditi...\n",
       "46     Can humans be infected with the COVID-19 from ...\n",
       "9      Can the virus that causes COVID-19 be transmit...\n",
       "63     Will schools be dismissed if there is an outbr...\n",
       "3      How can people help stop stigma related to COV...\n",
       "38     What is the difference between molecular tests...\n",
       "56     Is there official guidance on the efficacy of ...\n",
       "1                                 What is a coronavirus?\n",
       "49     Is takeout food safe? What precautions should ...\n",
       "Name: q, dtype: object"
      ]
     },
     "execution_count": 25,
     "metadata": {},
     "output_type": "execute_result"
    }
   ],
   "source": [
    "QA['q'].sample(20)"
   ]
  },
  {
   "cell_type": "code",
   "execution_count": 26,
   "metadata": {},
   "outputs": [
    {
     "data": {
      "text/plain": [
       "True"
      ]
     },
     "execution_count": 26,
     "metadata": {},
     "output_type": "execute_result"
    }
   ],
   "source": [
    "QA.shape[0] == bow_data.shape[0]"
   ]
  },
  {
   "cell_type": "code",
   "execution_count": 27,
   "metadata": {},
   "outputs": [
    {
     "data": {
      "text/plain": [
       "(1, 2729)"
      ]
     },
     "execution_count": 27,
     "metadata": {},
     "output_type": "execute_result"
    }
   ],
   "source": [
    "bow_data[0].shape"
   ]
  },
  {
   "cell_type": "code",
   "execution_count": 28,
   "metadata": {},
   "outputs": [
    {
     "data": {
      "text/plain": [
       "(1, 2729)"
      ]
     },
     "execution_count": 28,
     "metadata": {},
     "output_type": "execute_result"
    }
   ],
   "source": [
    "r.shape"
   ]
  },
  {
   "cell_type": "code",
   "execution_count": null,
   "metadata": {
    "scrolled": true
   },
   "outputs": [
    {
     "name": "stdout",
     "output_type": "stream",
     "text": [
      "Q: can animals spread virus\n",
      "A:  Although we know certain bacteria and fungi can be carried on fur and hair, there is no evidence that viruses,\n",
      "including the virus that causes COVID-19, can spread to people from the skin, fur, or hair of pets.\n",
      "However, because animals can sometimes carry other germs that can make people sick, it’s always a good idea to\n",
      "practice healthy habits around pets and other animals, including washing hands before and after interacting with\n",
      "them.\n",
      "\n",
      "Q: what coronavirus\n",
      "A:  Coronaviruses are a large family of viruses which occur naturally in animals and may cause illness in animals and humans. In humans, coronaviruses cause respiratory infections ranging from common colds with mild symptoms to more severe diseases such as the Middle East Respiratory Syndrome (MERS) and the Severe Acute Respiratory Syndrome (SARS). The most recently discovered virus in this family causes the Coronavirus Disease, COVID-19.\n",
      "Q: what is covid-19\n",
      "A:  The Coronavirus Disease is a flu-like respiratory disease that is highly contagious.\n",
      "Q: keep my family safe\n",
      "A:  Watch your child for any signs of illness. If you see any sign of illness consistent with symptoms of COVID-19, particularly fever, cough, or shortness of breath, call your healthcare provider and keep your child at home and away from others as much as possible.Follow CDC’s guidance on “What to do if you are sick.”\n",
      "\n",
      "Q: depression\n",
      "A:  A novel coronavirus is a new coronavirus that has not been previously identied. The virus causing coronavirus\n",
      "disease 2019 (COVID-19), is not the same as the coronaviruses that commonly circulate among humans and cause\n",
      "mild illness, like the common cold.\n",
      "\n",
      "Q: can the virus cause depression\n",
      "A:  Studies to date suggest that the virus that causes COVID-19 is mainly transmitted through contact with respiratory droplets rather than through the air. \n",
      "Q: E101-TF-IDF - Jupyter Notebook.html\n",
      "A:  A novel coronavirus is a new coronavirus that has not been previously identied. The virus causing coronavirus\n",
      "disease 2019 (COVID-19), is not the same as the coronaviruses that commonly circulate among humans and cause\n",
      "mild illness, like the common cold.\n",
      "\n",
      "Q: when will it end\n",
      "A:  CDC and partners are investigating to determine if you can get sick with COVID-19 more than once. At this time, we are\n",
      "not sure if you can become re-infected. Until we know more, continue to take steps to protect yourself and others.\n",
      "\n",
      "Q: does it kill people\n",
      "A:  Developing a vaccine takes time, in most cases several years, as they need to undergo extensive testing in clinical trials to determine their safety and efficacy.\n"
     ]
    }
   ],
   "source": [
    "while True:\n",
    "    q = input(\"Q: \")\n",
    "    q = cv_test(q)\n",
    "    ranks = np.array([cosine_similarity(q,bow_data[i]) for i in range(QA.shape[0])]).reshape(QA.shape[0],1)\n",
    "    loc = np.argmax(ranks)  \n",
    "    a = QA_dict[loc][1]\n",
    "    print(\"A: \",a)"
   ]
  },
  {
   "cell_type": "code",
   "execution_count": null,
   "metadata": {},
   "outputs": [],
   "source": []
  }
 ],
 "metadata": {
  "kernelspec": {
   "display_name": "Python [conda env:ml]",
   "language": "python",
   "name": "conda-env-ml-py"
  },
  "language_info": {
   "codemirror_mode": {
    "name": "ipython",
    "version": 3
   },
   "file_extension": ".py",
   "mimetype": "text/x-python",
   "name": "python",
   "nbconvert_exporter": "python",
   "pygments_lexer": "ipython3",
   "version": "3.6.10"
  }
 },
 "nbformat": 4,
 "nbformat_minor": 4
}
