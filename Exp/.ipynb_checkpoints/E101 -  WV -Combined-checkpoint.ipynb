{
 "cells": [
  {
   "cell_type": "code",
   "execution_count": 1,
   "metadata": {
    "scrolled": false
   },
   "outputs": [
    {
     "name": "stderr",
     "output_type": "stream",
     "text": [
      "C:\\Users\\uroot\\anaconda3\\envs\\ml\\lib\\site-packages\\sklearn\\utils\\deprecation.py:143: FutureWarning: The sklearn.feature_extraction.stop_words module is  deprecated in version 0.22 and will be removed in version 0.24. The corresponding classes / functions should instead be imported from sklearn.feature_extraction.text. Anything that cannot be imported from sklearn.feature_extraction.text is now part of the private API.\n",
      "  warnings.warn(message, FutureWarning)\n"
     ]
    }
   ],
   "source": [
    "import pandas as pd\n",
    "import numpy as np\n",
    "from sklearn.feature_extraction import stop_words\n",
    "from sklearn.feature_extraction.text import TfidfVectorizer\n",
    "import os\n",
    "from nltk.corpus import stopwords \n",
    "import nltk\n",
    "import re\n",
    "from gensim.models import Word2Vec\n",
    "from sklearn.metrics.pairwise import cosine_similarity,euclidean_distances"
   ]
  },
  {
   "cell_type": "code",
   "execution_count": 2,
   "metadata": {},
   "outputs": [],
   "source": [
    "#nltk.download('stopwords')"
   ]
  },
  {
   "cell_type": "code",
   "execution_count": 3,
   "metadata": {},
   "outputs": [],
   "source": [
    "stop = set(['?',',',':','@']) "
   ]
  },
  {
   "cell_type": "code",
   "execution_count": 4,
   "metadata": {},
   "outputs": [],
   "source": [
    "ROOT = '../data/'\n",
    "\n",
    "QA_dict = {}"
   ]
  },
  {
   "cell_type": "code",
   "execution_count": 5,
   "metadata": {},
   "outputs": [
    {
     "data": {
      "text/plain": [
       "['CDC.xlsx',\n",
       " 'Coronavirus (COVID-19) frequently asked questions _ CDC.pdf',\n",
       " 'covidquestionsca.xlsx',\n",
       " 'EAC.xlsx',\n",
       " 'JHU.xlsx',\n",
       " 'MOHKE.xlsx',\n",
       " 'sources.txt',\n",
       " 'WHO.xlsx']"
      ]
     },
     "execution_count": 5,
     "metadata": {},
     "output_type": "execute_result"
    }
   ],
   "source": [
    "os.listdir(ROOT)"
   ]
  },
  {
   "cell_type": "code",
   "execution_count": 6,
   "metadata": {},
   "outputs": [],
   "source": [
    "paths = [ROOT+d for d in os.listdir(ROOT) if d.endswith(\".xlsx\")]"
   ]
  },
  {
   "cell_type": "code",
   "execution_count": 7,
   "metadata": {},
   "outputs": [
    {
     "data": {
      "text/plain": [
       "['../data/CDC.xlsx',\n",
       " '../data/covidquestionsca.xlsx',\n",
       " '../data/EAC.xlsx',\n",
       " '../data/JHU.xlsx',\n",
       " '../data/MOHKE.xlsx',\n",
       " '../data/WHO.xlsx']"
      ]
     },
     "execution_count": 7,
     "metadata": {},
     "output_type": "execute_result"
    }
   ],
   "source": [
    "paths"
   ]
  },
  {
   "cell_type": "code",
   "execution_count": 8,
   "metadata": {},
   "outputs": [],
   "source": [
    "data = [ pd.read_excel(p, names = ['q','a']) for p in paths]"
   ]
  },
  {
   "cell_type": "code",
   "execution_count": 9,
   "metadata": {},
   "outputs": [],
   "source": [
    "QA = pd.DataFrame()"
   ]
  },
  {
   "cell_type": "code",
   "execution_count": 10,
   "metadata": {},
   "outputs": [
    {
     "name": "stdout",
     "output_type": "stream",
     "text": [
      "(116, 2)\n",
      "(10, 2)\n",
      "(26, 2)\n",
      "(86, 2)\n",
      "(85, 2)\n"
     ]
    }
   ],
   "source": [
    "for d in data[:]:\n",
    "    if d.shape[0]>0:\n",
    "        print(d.shape)\n",
    "        QA = pd.concat((QA,d),axis = 0)"
   ]
  },
  {
   "cell_type": "code",
   "execution_count": 11,
   "metadata": {},
   "outputs": [
    {
     "data": {
      "text/plain": [
       "(323, 2)"
      ]
     },
     "execution_count": 11,
     "metadata": {},
     "output_type": "execute_result"
    }
   ],
   "source": [
    "QA.shape"
   ]
  },
  {
   "cell_type": "code",
   "execution_count": 12,
   "metadata": {},
   "outputs": [
    {
     "data": {
      "text/html": [
       "<div>\n",
       "<style scoped>\n",
       "    .dataframe tbody tr th:only-of-type {\n",
       "        vertical-align: middle;\n",
       "    }\n",
       "\n",
       "    .dataframe tbody tr th {\n",
       "        vertical-align: top;\n",
       "    }\n",
       "\n",
       "    .dataframe thead th {\n",
       "        text-align: right;\n",
       "    }\n",
       "</style>\n",
       "<table border=\"1\" class=\"dataframe\">\n",
       "  <thead>\n",
       "    <tr style=\"text-align: right;\">\n",
       "      <th></th>\n",
       "      <th>q</th>\n",
       "      <th>a</th>\n",
       "    </tr>\n",
       "  </thead>\n",
       "  <tbody>\n",
       "    <tr>\n",
       "      <th>68</th>\n",
       "      <td>Should pregnant women be tested for COVID-19?</td>\n",
       "      <td>Testing protocols and eligibility vary dependi...</td>\n",
       "    </tr>\n",
       "    <tr>\n",
       "      <th>56</th>\n",
       "      <td>When to Seek Emergency Medical Attention\\n</td>\n",
       "      <td>Look for emergency warning signs* for COVID-19...</td>\n",
       "    </tr>\n",
       "    <tr>\n",
       "      <th>67</th>\n",
       "      <td>What are the symptoms and complications that C...</td>\n",
       "      <td>People with COVID-19 have had a wide range of ...</td>\n",
       "    </tr>\n",
       "    <tr>\n",
       "      <th>27</th>\n",
       "      <td>Am I at risk for COVID-19 from mail, packages,...</td>\n",
       "      <td>There is still a lot that is unknown about COV...</td>\n",
       "    </tr>\n",
       "    <tr>\n",
       "      <th>2</th>\n",
       "      <td>What is COVID-19?</td>\n",
       "      <td>The Coronavirus Disease is a flu-like respirat...</td>\n",
       "    </tr>\n",
       "    <tr>\n",
       "      <th>24</th>\n",
       "      <td>Can I get COVID-19 through second-hand clothe...</td>\n",
       "      <td>The virus that causes COVID-19 can survive on ...</td>\n",
       "    </tr>\n",
       "    <tr>\n",
       "      <th>74</th>\n",
       "      <td>If I have recovered from COVID-19, will I be i...</td>\n",
       "      <td>CDC and partners are investigating to determin...</td>\n",
       "    </tr>\n",
       "    <tr>\n",
       "      <th>24</th>\n",
       "      <td>Are COVID toes related to blood clotting?</td>\n",
       "      <td>Yes. People with coronavirus have the ability ...</td>\n",
       "    </tr>\n",
       "    <tr>\n",
       "      <th>55</th>\n",
       "      <td>Should the general public cover their faces wi...</td>\n",
       "      <td>The CDC now recommends that people without sym...</td>\n",
       "    </tr>\n",
       "    <tr>\n",
       "      <th>12</th>\n",
       "      <td>Why are we seeing a rise in cases?\\n</td>\n",
       "      <td>The number of cases of COVID-19 being reported...</td>\n",
       "    </tr>\n",
       "  </tbody>\n",
       "</table>\n",
       "</div>"
      ],
      "text/plain": [
       "                                                    q  \\\n",
       "68      Should pregnant women be tested for COVID-19?   \n",
       "56         When to Seek Emergency Medical Attention\\n   \n",
       "67  What are the symptoms and complications that C...   \n",
       "27  Am I at risk for COVID-19 from mail, packages,...   \n",
       "2                                   What is COVID-19?   \n",
       "24   Can I get COVID-19 through second-hand clothe...   \n",
       "74  If I have recovered from COVID-19, will I be i...   \n",
       "24          Are COVID toes related to blood clotting?   \n",
       "55  Should the general public cover their faces wi...   \n",
       "12               Why are we seeing a rise in cases?\\n   \n",
       "\n",
       "                                                    a  \n",
       "68  Testing protocols and eligibility vary dependi...  \n",
       "56  Look for emergency warning signs* for COVID-19...  \n",
       "67  People with COVID-19 have had a wide range of ...  \n",
       "27  There is still a lot that is unknown about COV...  \n",
       "2   The Coronavirus Disease is a flu-like respirat...  \n",
       "24  The virus that causes COVID-19 can survive on ...  \n",
       "74  CDC and partners are investigating to determin...  \n",
       "24  Yes. People with coronavirus have the ability ...  \n",
       "55  The CDC now recommends that people without sym...  \n",
       "12  The number of cases of COVID-19 being reported...  "
      ]
     },
     "execution_count": 12,
     "metadata": {},
     "output_type": "execute_result"
    }
   ],
   "source": [
    "QA.sample(10)"
   ]
  },
  {
   "cell_type": "code",
   "execution_count": 13,
   "metadata": {},
   "outputs": [],
   "source": [
    " snow = nltk.stem.SnowballStemmer('english')"
   ]
  },
  {
   "cell_type": "code",
   "execution_count": 14,
   "metadata": {},
   "outputs": [],
   "source": [
    "def clean(q_a):\n",
    "    temp = []\n",
    "    snow = nltk.stem.SnowballStemmer('english')\n",
    "    for sentence in q_a:\n",
    "        sentence = str(sentence)\n",
    "        sentence = sentence.lower()                 # Converting to lowercase\n",
    "        cleanr = re.compile('<.*?>')\n",
    "        sentence = re.sub(cleanr, ' ', sentence)        #Removing HTML tags\n",
    "        sentence = re.sub(r'[?|!|\\'|\"|#]\\d',r'',sentence)\n",
    "        sentence = re.sub(r'[.|,|)|(|\\|/]@',r' ',sentence)        #Removing Punctuations\n",
    "        words = [snow.stem(word) for word in sentence.split() if word not in stop]   # Stemming and removing stopwords\n",
    "        temp.append(words)\n",
    "    q_a = temp  \n",
    "    return q_a"
   ]
  },
  {
   "cell_type": "code",
   "execution_count": 15,
   "metadata": {},
   "outputs": [],
   "source": [
    "def clean_col(c):\n",
    "    sent = []\n",
    "    for row in c:\n",
    "        sequ = ''\n",
    "        for word in row:\n",
    "            sequ = sequ + ' ' + word\n",
    "        sent.append(sequ)\n",
    "    c = sent\n",
    "    return c"
   ]
  },
  {
   "cell_type": "code",
   "execution_count": 16,
   "metadata": {},
   "outputs": [],
   "source": [
    "def combine_cols(l1,l2):\n",
    "    r = []\n",
    "    for q, a in  zip(l1,l2):\n",
    "        r.append(q+\" \"+a)\n",
    "    return r"
   ]
  },
  {
   "cell_type": "code",
   "execution_count": 17,
   "metadata": {},
   "outputs": [],
   "source": [
    "q_new =  clean_col(clean(QA['q']))\n",
    "a_new =  clean_col(clean(QA['a']))\n",
    "qa_combined = combine_cols(q_new,a_new)\n"
   ]
  },
  {
   "cell_type": "code",
   "execution_count": 18,
   "metadata": {},
   "outputs": [],
   "source": [
    "QA['q_new'] =  q_new\n",
    "QA['a_new'] = a_new\n",
    "QA['qa_combined'] = qa_combined"
   ]
  },
  {
   "cell_type": "code",
   "execution_count": 19,
   "metadata": {},
   "outputs": [
    {
     "data": {
      "text/html": [
       "<div>\n",
       "<style scoped>\n",
       "    .dataframe tbody tr th:only-of-type {\n",
       "        vertical-align: middle;\n",
       "    }\n",
       "\n",
       "    .dataframe tbody tr th {\n",
       "        vertical-align: top;\n",
       "    }\n",
       "\n",
       "    .dataframe thead th {\n",
       "        text-align: right;\n",
       "    }\n",
       "</style>\n",
       "<table border=\"1\" class=\"dataframe\">\n",
       "  <thead>\n",
       "    <tr style=\"text-align: right;\">\n",
       "      <th></th>\n",
       "      <th>q</th>\n",
       "      <th>a</th>\n",
       "      <th>q_new</th>\n",
       "      <th>a_new</th>\n",
       "      <th>qa_combined</th>\n",
       "    </tr>\n",
       "  </thead>\n",
       "  <tbody>\n",
       "    <tr>\n",
       "      <th>0</th>\n",
       "      <td>What is a novel coronavirus?</td>\n",
       "      <td>A novel coronavirus is a new coronavirus that ...</td>\n",
       "      <td>what is a novel coronavirus?</td>\n",
       "      <td>a novel coronavirus is a new coronavirus that...</td>\n",
       "      <td>what is a novel coronavirus?  a novel coronav...</td>\n",
       "    </tr>\n",
       "    <tr>\n",
       "      <th>1</th>\n",
       "      <td>Why is the disease being called coronavirus di...</td>\n",
       "      <td>On February 11, 2020 the World Health Organiza...</td>\n",
       "      <td>whi is the diseas be call coronavirus diseas ...</td>\n",
       "      <td>on februari 11, 2020 the world health organ a...</td>\n",
       "      <td>whi is the diseas be call coronavirus diseas ...</td>\n",
       "    </tr>\n",
       "    <tr>\n",
       "      <th>2</th>\n",
       "      <td>Why might someone blame or avoid individuals a...</td>\n",
       "      <td>People in the U.S. may be worried or anxious a...</td>\n",
       "      <td>whi might someon blame or avoid individu and ...</td>\n",
       "      <td>peopl in the u.s. may be worri or anxious abo...</td>\n",
       "      <td>whi might someon blame or avoid individu and ...</td>\n",
       "    </tr>\n",
       "    <tr>\n",
       "      <th>3</th>\n",
       "      <td>How can people help stop stigma related to COV...</td>\n",
       "      <td>People can ght stigma by providing social supp...</td>\n",
       "      <td>how can peopl help stop stigma relat to covid...</td>\n",
       "      <td>peopl can ght stigma by provid social support...</td>\n",
       "      <td>how can peopl help stop stigma relat to covid...</td>\n",
       "    </tr>\n",
       "    <tr>\n",
       "      <th>4</th>\n",
       "      <td>Why do some state’s COVID-19 case numbers some...</td>\n",
       "      <td>CDC’s overall case numbers are validated throu...</td>\n",
       "      <td>whi do some state covid-19 case number someti...</td>\n",
       "      <td>cdc overal case number are valid through a co...</td>\n",
       "      <td>whi do some state covid-19 case number someti...</td>\n",
       "    </tr>\n",
       "  </tbody>\n",
       "</table>\n",
       "</div>"
      ],
      "text/plain": [
       "                                                   q  \\\n",
       "0                       What is a novel coronavirus?   \n",
       "1  Why is the disease being called coronavirus di...   \n",
       "2  Why might someone blame or avoid individuals a...   \n",
       "3  How can people help stop stigma related to COV...   \n",
       "4  Why do some state’s COVID-19 case numbers some...   \n",
       "\n",
       "                                                   a  \\\n",
       "0  A novel coronavirus is a new coronavirus that ...   \n",
       "1  On February 11, 2020 the World Health Organiza...   \n",
       "2  People in the U.S. may be worried or anxious a...   \n",
       "3  People can ght stigma by providing social supp...   \n",
       "4  CDC’s overall case numbers are validated throu...   \n",
       "\n",
       "                                               q_new  \\\n",
       "0                       what is a novel coronavirus?   \n",
       "1   whi is the diseas be call coronavirus diseas ...   \n",
       "2   whi might someon blame or avoid individu and ...   \n",
       "3   how can peopl help stop stigma relat to covid...   \n",
       "4   whi do some state covid-19 case number someti...   \n",
       "\n",
       "                                               a_new  \\\n",
       "0   a novel coronavirus is a new coronavirus that...   \n",
       "1   on februari 11, 2020 the world health organ a...   \n",
       "2   peopl in the u.s. may be worri or anxious abo...   \n",
       "3   peopl can ght stigma by provid social support...   \n",
       "4   cdc overal case number are valid through a co...   \n",
       "\n",
       "                                         qa_combined  \n",
       "0   what is a novel coronavirus?  a novel coronav...  \n",
       "1   whi is the diseas be call coronavirus diseas ...  \n",
       "2   whi might someon blame or avoid individu and ...  \n",
       "3   how can peopl help stop stigma relat to covid...  \n",
       "4   whi do some state covid-19 case number someti...  "
      ]
     },
     "execution_count": 19,
     "metadata": {},
     "output_type": "execute_result"
    }
   ],
   "source": [
    "QA.head()"
   ]
  },
  {
   "cell_type": "code",
   "execution_count": 20,
   "metadata": {},
   "outputs": [],
   "source": [
    "w2v_data = QA['qa_combined']"
   ]
  },
  {
   "cell_type": "code",
   "execution_count": 21,
   "metadata": {},
   "outputs": [],
   "source": [
    "splitted = []\n",
    "for row in w2v_data: \n",
    "    splitted.append([word for word in row.split()]) "
   ]
  },
  {
   "cell_type": "code",
   "execution_count": 22,
   "metadata": {},
   "outputs": [],
   "source": [
    "train_w2v = Word2Vec(splitted,min_count=1,size=100, workers=4)"
   ]
  },
  {
   "cell_type": "code",
   "execution_count": 23,
   "metadata": {},
   "outputs": [
    {
     "name": "stderr",
     "output_type": "stream",
     "text": [
      "C:\\Users\\uroot\\anaconda3\\envs\\ml\\lib\\site-packages\\ipykernel_launcher.py:7: DeprecationWarning: Call to deprecated `__getitem__` (Method will be removed in 4.0.0, use self.wv.__getitem__() instead).\n",
      "  import sys\n"
     ]
    }
   ],
   "source": [
    "avg_data = []\n",
    "for row in splitted:\n",
    "    vec = np.zeros(100)\n",
    "    count = 0\n",
    "    for word in row:\n",
    "        try:\n",
    "            vec += train_w2v[word]\n",
    "            count += 1\n",
    "        except:\n",
    "            pass\n",
    "    avg_data.append(vec/count)"
   ]
  },
  {
   "cell_type": "code",
   "execution_count": 24,
   "metadata": {},
   "outputs": [],
   "source": [
    "avg_data = np.array(avg_data)"
   ]
  },
  {
   "cell_type": "code",
   "execution_count": 25,
   "metadata": {},
   "outputs": [],
   "source": [
    "for i,(q , a) in enumerate(zip(QA['q'],QA['a'])):\n",
    "    QA_dict[i] = [q,a]                   "
   ]
  },
  {
   "cell_type": "code",
   "execution_count": 26,
   "metadata": {},
   "outputs": [],
   "source": [
    "def wv_test(q):\n",
    "    tq = [q]\n",
    "    tq = clean(tq)\n",
    "    tq = clean_col(tq)\n",
    "    splitted_test = []\n",
    "    for row in tq: \n",
    "        splitted_test.append([word for word in row.split()]) \n",
    "    avg_data_test = []\n",
    "    for row in splitted_test:\n",
    "        vec = np.zeros(100)\n",
    "        count = 0\n",
    "        for word in row:\n",
    "            try:\n",
    "                vec += train_w2v[word]\n",
    "                count += 1\n",
    "            except:\n",
    "                pass\n",
    "        avg_data_test.append(vec/count)\n",
    "    return np.array(avg_data_test)"
   ]
  },
  {
   "cell_type": "code",
   "execution_count": 27,
   "metadata": {
    "scrolled": true
   },
   "outputs": [
    {
     "data": {
      "text/plain": [
       "58                    Is there anything I should not do?\n",
       "57                    Is there anything I should not do?\n",
       "35     Why are there reagent shortages that are impac...\n",
       "26     Is it safe to get care for my other medical co...\n",
       "80     What does a well-controlled health condition m...\n",
       "77     How are COVID-19 and influenza viruses different?\n",
       "39     If you are tested and the test is negative, do...\n",
       "40       Are false negatives a problem with COVID tests?\n",
       "4      What symptoms do coronaviruses typically cause...\n",
       "71     Do pregnant women with suspected or confirmed ...\n",
       "99     Can I get COVID-19 from my pets or other anima...\n",
       "19     What temperature kills the virus that causes C...\n",
       "60     What cleaning products should I use to protect...\n",
       "115    Who is involved in community mitigation action...\n",
       "81     What should we do to protect employees at busi...\n",
       "41     While school’s out, how can I keep my family h...\n",
       "20     What can I do to protect myself andProtection ...\n",
       "64     Does a person’s blood type affect how infectio...\n",
       "65          Can you get COVID-19 from second-hand smoke?\n",
       "33     Is there a vaccine, drug or treatment for COVI...\n",
       "Name: q, dtype: object"
      ]
     },
     "execution_count": 27,
     "metadata": {},
     "output_type": "execute_result"
    }
   ],
   "source": [
    "QA['q'].sample(20)"
   ]
  },
  {
   "cell_type": "code",
   "execution_count": null,
   "metadata": {
    "scrolled": true
   },
   "outputs": [
    {
     "name": "stdout",
     "output_type": "stream",
     "text": [
      "Q: Should I stay inside the house\n"
     ]
    },
    {
     "name": "stderr",
     "output_type": "stream",
     "text": [
      "C:\\Users\\uroot\\anaconda3\\envs\\ml\\lib\\site-packages\\ipykernel_launcher.py:14: DeprecationWarning: Call to deprecated `__getitem__` (Method will be removed in 4.0.0, use self.wv.__getitem__() instead).\n",
      "  \n"
     ]
    },
    {
     "name": "stdout",
     "output_type": "stream",
     "text": [
      "A:  Pregnant women should take the same precautions to avoid COVID-19 infection as other people.\n"
     ]
    }
   ],
   "source": [
    "while True:\n",
    "    q = input(\"Q: \")\n",
    "    q = wv_test(q)\n",
    "    ranks = np.array([cosine_similarity(q.reshape(1,100),avg_data[i].reshape(1,100)) for i in range(QA.shape[0])]).reshape(QA.shape[0],1)\n",
    "    loc = np.argmax(ranks)  \n",
    "    a = QA_dict[loc][1]\n",
    "    print(\"A: \",a)"
   ]
  },
  {
   "cell_type": "code",
   "execution_count": null,
   "metadata": {},
   "outputs": [],
   "source": []
  }
 ],
 "metadata": {
  "kernelspec": {
   "display_name": "Python [conda env:ml]",
   "language": "python",
   "name": "conda-env-ml-py"
  },
  "language_info": {
   "codemirror_mode": {
    "name": "ipython",
    "version": 3
   },
   "file_extension": ".py",
   "mimetype": "text/x-python",
   "name": "python",
   "nbconvert_exporter": "python",
   "pygments_lexer": "ipython3",
   "version": "3.6.10"
  }
 },
 "nbformat": 4,
 "nbformat_minor": 4
}
