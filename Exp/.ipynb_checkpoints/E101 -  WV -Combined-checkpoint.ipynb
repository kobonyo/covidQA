{
 "cells": [
  {
   "cell_type": "code",
   "execution_count": 1,
   "metadata": {},
   "outputs": [
    {
     "name": "stderr",
     "output_type": "stream",
     "text": [
      "C:\\Users\\uroot\\anaconda3\\envs\\ml\\lib\\site-packages\\sklearn\\utils\\deprecation.py:143: FutureWarning: The sklearn.feature_extraction.stop_words module is  deprecated in version 0.22 and will be removed in version 0.24. The corresponding classes / functions should instead be imported from sklearn.feature_extraction.text. Anything that cannot be imported from sklearn.feature_extraction.text is now part of the private API.\n",
      "  warnings.warn(message, FutureWarning)\n"
     ]
    }
   ],
   "source": [
    "import pandas as pd\n",
    "import numpy as np\n",
    "from sklearn.feature_extraction import stop_words\n",
    "from sklearn.feature_extraction.text import TfidfVectorizer\n",
    "import os\n",
    "from nltk.corpus import stopwords \n",
    "import nltk\n",
    "import re\n",
    "from gensim.models import Word2Vec\n",
    "from sklearn.metrics.pairwise import cosine_similarity,euclidean_distances"
   ]
  },
  {
   "cell_type": "code",
   "execution_count": 2,
   "metadata": {},
   "outputs": [],
   "source": [
    "#nltk.download('stopwords')"
   ]
  },
  {
   "cell_type": "code",
   "execution_count": 3,
   "metadata": {},
   "outputs": [],
   "source": [
    "stop = set(['?',',',':','@']) "
   ]
  },
  {
   "cell_type": "code",
   "execution_count": 4,
   "metadata": {},
   "outputs": [],
   "source": [
    "ROOT = '../data/'\n",
    "\n",
    "QA_dict = {}"
   ]
  },
  {
   "cell_type": "code",
   "execution_count": 5,
   "metadata": {},
   "outputs": [
    {
     "data": {
      "text/plain": [
       "['CDC.xlsx',\n",
       " 'Coronavirus (COVID-19) frequently asked questions _ CDC.pdf',\n",
       " 'covidquestionsca.xlsx',\n",
       " 'EAC.xlsx',\n",
       " 'JHU.xlsx',\n",
       " 'MOHKE.xlsx',\n",
       " 'sources.txt',\n",
       " 'WHO.xlsx']"
      ]
     },
     "execution_count": 5,
     "metadata": {},
     "output_type": "execute_result"
    }
   ],
   "source": [
    "os.listdir(ROOT)"
   ]
  },
  {
   "cell_type": "code",
   "execution_count": 6,
   "metadata": {},
   "outputs": [],
   "source": [
    "paths = [ROOT+d for d in os.listdir(ROOT) if d.endswith(\".xlsx\")]"
   ]
  },
  {
   "cell_type": "code",
   "execution_count": 7,
   "metadata": {},
   "outputs": [
    {
     "data": {
      "text/plain": [
       "['../data/CDC.xlsx',\n",
       " '../data/covidquestionsca.xlsx',\n",
       " '../data/EAC.xlsx',\n",
       " '../data/JHU.xlsx',\n",
       " '../data/MOHKE.xlsx',\n",
       " '../data/WHO.xlsx']"
      ]
     },
     "execution_count": 7,
     "metadata": {},
     "output_type": "execute_result"
    }
   ],
   "source": [
    "paths"
   ]
  },
  {
   "cell_type": "code",
   "execution_count": 8,
   "metadata": {},
   "outputs": [],
   "source": [
    "data = [ pd.read_excel(p, names = ['q','a']) for p in paths]"
   ]
  },
  {
   "cell_type": "code",
   "execution_count": 9,
   "metadata": {},
   "outputs": [],
   "source": [
    "QA = pd.DataFrame()"
   ]
  },
  {
   "cell_type": "code",
   "execution_count": 10,
   "metadata": {},
   "outputs": [
    {
     "name": "stdout",
     "output_type": "stream",
     "text": [
      "(116, 2)\n",
      "(10, 2)\n",
      "(26, 2)\n",
      "(86, 2)\n",
      "(85, 2)\n"
     ]
    }
   ],
   "source": [
    "for d in data[:]:\n",
    "    if d.shape[0]>0:\n",
    "        print(d.shape)\n",
    "        QA = pd.concat((QA,d),axis = 0)"
   ]
  },
  {
   "cell_type": "code",
   "execution_count": 11,
   "metadata": {},
   "outputs": [
    {
     "data": {
      "text/plain": [
       "(323, 2)"
      ]
     },
     "execution_count": 11,
     "metadata": {},
     "output_type": "execute_result"
    }
   ],
   "source": [
    "QA.shape"
   ]
  },
  {
   "cell_type": "code",
   "execution_count": 12,
   "metadata": {},
   "outputs": [
    {
     "data": {
      "text/html": [
       "<div>\n",
       "<style scoped>\n",
       "    .dataframe tbody tr th:only-of-type {\n",
       "        vertical-align: middle;\n",
       "    }\n",
       "\n",
       "    .dataframe tbody tr th {\n",
       "        vertical-align: top;\n",
       "    }\n",
       "\n",
       "    .dataframe thead th {\n",
       "        text-align: right;\n",
       "    }\n",
       "</style>\n",
       "<table border=\"1\" class=\"dataframe\">\n",
       "  <thead>\n",
       "    <tr style=\"text-align: right;\">\n",
       "      <th></th>\n",
       "      <th>q</th>\n",
       "      <th>a</th>\n",
       "    </tr>\n",
       "  </thead>\n",
       "  <tbody>\n",
       "    <tr>\n",
       "      <th>7</th>\n",
       "      <td>How does COVID-19 spread?</td>\n",
       "      <td>People can catch COVID-19 from others who have...</td>\n",
       "    </tr>\n",
       "    <tr>\n",
       "      <th>81</th>\n",
       "      <td>What should we do to protect employees at busi...</td>\n",
       "      <td>The CDC has some specific guidance on this. It...</td>\n",
       "    </tr>\n",
       "    <tr>\n",
       "      <th>7</th>\n",
       "      <td>How can I prevent myself from getting infected?</td>\n",
       "      <td>The best way to prevent an infection is to avo...</td>\n",
       "    </tr>\n",
       "    <tr>\n",
       "      <th>82</th>\n",
       "      <td>Does the science support limiting the number o...</td>\n",
       "      <td>Yes. We should be practicing social distancing...</td>\n",
       "    </tr>\n",
       "    <tr>\n",
       "      <th>11</th>\n",
       "      <td>Can someone who is released from COVID-19 quar...</td>\n",
       "      <td>Someone who has been released from COVID-19 qu...</td>\n",
       "    </tr>\n",
       "    <tr>\n",
       "      <th>29</th>\n",
       "      <td>Should contact lens wearers take special preca...</td>\n",
       "      <td>Currently there is no evidence to suggest cont...</td>\n",
       "    </tr>\n",
       "    <tr>\n",
       "      <th>84</th>\n",
       "      <td>Does WHO recommend that all international mass...</td>\n",
       "      <td>No. As each international mass gathering is di...</td>\n",
       "    </tr>\n",
       "    <tr>\n",
       "      <th>14</th>\n",
       "      <td>What can I do to protect myself and prevent th...</td>\n",
       "      <td>Maintain at least 1 metre (3 feet) distance be...</td>\n",
       "    </tr>\n",
       "    <tr>\n",
       "      <th>0</th>\n",
       "      <td>What is a coronavirus?</td>\n",
       "      <td>Coronaviruses are a family of viruses that typ...</td>\n",
       "    </tr>\n",
       "    <tr>\n",
       "      <th>9</th>\n",
       "      <td>Is there vaccine availabele?</td>\n",
       "      <td>At this time, there is no vaccine for COVID-19...</td>\n",
       "    </tr>\n",
       "  </tbody>\n",
       "</table>\n",
       "</div>"
      ],
      "text/plain": [
       "                                                    q  \\\n",
       "7                           How does COVID-19 spread?   \n",
       "81  What should we do to protect employees at busi...   \n",
       "7     How can I prevent myself from getting infected?   \n",
       "82  Does the science support limiting the number o...   \n",
       "11  Can someone who is released from COVID-19 quar...   \n",
       "29  Should contact lens wearers take special preca...   \n",
       "84  Does WHO recommend that all international mass...   \n",
       "14  What can I do to protect myself and prevent th...   \n",
       "0                              What is a coronavirus?   \n",
       "9                        Is there vaccine availabele?   \n",
       "\n",
       "                                                    a  \n",
       "7   People can catch COVID-19 from others who have...  \n",
       "81  The CDC has some specific guidance on this. It...  \n",
       "7   The best way to prevent an infection is to avo...  \n",
       "82  Yes. We should be practicing social distancing...  \n",
       "11  Someone who has been released from COVID-19 qu...  \n",
       "29  Currently there is no evidence to suggest cont...  \n",
       "84  No. As each international mass gathering is di...  \n",
       "14  Maintain at least 1 metre (3 feet) distance be...  \n",
       "0   Coronaviruses are a family of viruses that typ...  \n",
       "9   At this time, there is no vaccine for COVID-19...  "
      ]
     },
     "execution_count": 12,
     "metadata": {},
     "output_type": "execute_result"
    }
   ],
   "source": [
    "QA.sample(10)"
   ]
  },
  {
   "cell_type": "code",
   "execution_count": 13,
   "metadata": {},
   "outputs": [],
   "source": [
    " snow = nltk.stem.SnowballStemmer('english')"
   ]
  },
  {
   "cell_type": "code",
   "execution_count": 14,
   "metadata": {},
   "outputs": [],
   "source": [
    "def clean(q_a):\n",
    "    temp = []\n",
    "    snow = nltk.stem.SnowballStemmer('english')\n",
    "    for sentence in q_a:\n",
    "        sentence = str(sentence)\n",
    "        sentence = sentence.lower()                 # Converting to lowercase\n",
    "        cleanr = re.compile('<.*?>')\n",
    "        sentence = re.sub(cleanr, ' ', sentence)        #Removing HTML tags\n",
    "        sentence = re.sub(r'[?|!|\\'|\"|#]\\d',r'',sentence)\n",
    "        sentence = re.sub(r'[.|,|)|(|\\|/]@',r' ',sentence)        #Removing Punctuations\n",
    "        words = [snow.stem(word) for word in sentence.split() if word not in stop]   # Stemming and removing stopwords\n",
    "        temp.append(words)\n",
    "    q_a = temp  \n",
    "    return q_a"
   ]
  },
  {
   "cell_type": "code",
   "execution_count": 15,
   "metadata": {},
   "outputs": [],
   "source": [
    "def clean_col(c):\n",
    "    sent = []\n",
    "    for row in c:\n",
    "        sequ = ''\n",
    "        for word in row:\n",
    "            sequ = sequ + ' ' + word\n",
    "        sent.append(sequ)\n",
    "    c = sent\n",
    "    return c"
   ]
  },
  {
   "cell_type": "code",
   "execution_count": 16,
   "metadata": {},
   "outputs": [],
   "source": [
    "q_new =  clean_col(clean(QA['q']))\n",
    "a_new =  clean_col(clean(QA['a']))"
   ]
  },
  {
   "cell_type": "code",
   "execution_count": 17,
   "metadata": {},
   "outputs": [],
   "source": [
    "QA['q_new'] =  q_new\n",
    "QA['a_new'] = a_new"
   ]
  },
  {
   "cell_type": "code",
   "execution_count": 18,
   "metadata": {},
   "outputs": [
    {
     "data": {
      "text/html": [
       "<div>\n",
       "<style scoped>\n",
       "    .dataframe tbody tr th:only-of-type {\n",
       "        vertical-align: middle;\n",
       "    }\n",
       "\n",
       "    .dataframe tbody tr th {\n",
       "        vertical-align: top;\n",
       "    }\n",
       "\n",
       "    .dataframe thead th {\n",
       "        text-align: right;\n",
       "    }\n",
       "</style>\n",
       "<table border=\"1\" class=\"dataframe\">\n",
       "  <thead>\n",
       "    <tr style=\"text-align: right;\">\n",
       "      <th></th>\n",
       "      <th>q</th>\n",
       "      <th>a</th>\n",
       "      <th>q_new</th>\n",
       "      <th>a_new</th>\n",
       "    </tr>\n",
       "  </thead>\n",
       "  <tbody>\n",
       "    <tr>\n",
       "      <th>0</th>\n",
       "      <td>What is a novel coronavirus?</td>\n",
       "      <td>A novel coronavirus is a new coronavirus that ...</td>\n",
       "      <td>what is a novel coronavirus?</td>\n",
       "      <td>a novel coronavirus is a new coronavirus that...</td>\n",
       "    </tr>\n",
       "    <tr>\n",
       "      <th>1</th>\n",
       "      <td>Why is the disease being called coronavirus di...</td>\n",
       "      <td>On February 11, 2020 the World Health Organiza...</td>\n",
       "      <td>whi is the diseas be call coronavirus diseas ...</td>\n",
       "      <td>on februari 11, 2020 the world health organ a...</td>\n",
       "    </tr>\n",
       "    <tr>\n",
       "      <th>2</th>\n",
       "      <td>Why might someone blame or avoid individuals a...</td>\n",
       "      <td>People in the U.S. may be worried or anxious a...</td>\n",
       "      <td>whi might someon blame or avoid individu and ...</td>\n",
       "      <td>peopl in the u.s. may be worri or anxious abo...</td>\n",
       "    </tr>\n",
       "    <tr>\n",
       "      <th>3</th>\n",
       "      <td>How can people help stop stigma related to COV...</td>\n",
       "      <td>People can ght stigma by providing social supp...</td>\n",
       "      <td>how can peopl help stop stigma relat to covid...</td>\n",
       "      <td>peopl can ght stigma by provid social support...</td>\n",
       "    </tr>\n",
       "    <tr>\n",
       "      <th>4</th>\n",
       "      <td>Why do some state’s COVID-19 case numbers some...</td>\n",
       "      <td>CDC’s overall case numbers are validated throu...</td>\n",
       "      <td>whi do some state covid-19 case number someti...</td>\n",
       "      <td>cdc overal case number are valid through a co...</td>\n",
       "    </tr>\n",
       "  </tbody>\n",
       "</table>\n",
       "</div>"
      ],
      "text/plain": [
       "                                                   q  \\\n",
       "0                       What is a novel coronavirus?   \n",
       "1  Why is the disease being called coronavirus di...   \n",
       "2  Why might someone blame or avoid individuals a...   \n",
       "3  How can people help stop stigma related to COV...   \n",
       "4  Why do some state’s COVID-19 case numbers some...   \n",
       "\n",
       "                                                   a  \\\n",
       "0  A novel coronavirus is a new coronavirus that ...   \n",
       "1  On February 11, 2020 the World Health Organiza...   \n",
       "2  People in the U.S. may be worried or anxious a...   \n",
       "3  People can ght stigma by providing social supp...   \n",
       "4  CDC’s overall case numbers are validated throu...   \n",
       "\n",
       "                                               q_new  \\\n",
       "0                       what is a novel coronavirus?   \n",
       "1   whi is the diseas be call coronavirus diseas ...   \n",
       "2   whi might someon blame or avoid individu and ...   \n",
       "3   how can peopl help stop stigma relat to covid...   \n",
       "4   whi do some state covid-19 case number someti...   \n",
       "\n",
       "                                               a_new  \n",
       "0   a novel coronavirus is a new coronavirus that...  \n",
       "1   on februari 11, 2020 the world health organ a...  \n",
       "2   peopl in the u.s. may be worri or anxious abo...  \n",
       "3   peopl can ght stigma by provid social support...  \n",
       "4   cdc overal case number are valid through a co...  "
      ]
     },
     "execution_count": 18,
     "metadata": {},
     "output_type": "execute_result"
    }
   ],
   "source": [
    "QA.head()"
   ]
  },
  {
   "cell_type": "code",
   "execution_count": 19,
   "metadata": {},
   "outputs": [],
   "source": [
    "w2v_data = QA['q_new']"
   ]
  },
  {
   "cell_type": "code",
   "execution_count": 20,
   "metadata": {},
   "outputs": [],
   "source": [
    "splitted = []\n",
    "for row in w2v_data: \n",
    "    splitted.append([word for word in row.split()]) "
   ]
  },
  {
   "cell_type": "code",
   "execution_count": 21,
   "metadata": {},
   "outputs": [],
   "source": [
    "train_w2v = Word2Vec(splitted,min_count=1,size=100, workers=4)"
   ]
  },
  {
   "cell_type": "code",
   "execution_count": 22,
   "metadata": {},
   "outputs": [
    {
     "name": "stderr",
     "output_type": "stream",
     "text": [
      "C:\\Users\\uroot\\anaconda3\\envs\\ml\\lib\\site-packages\\ipykernel_launcher.py:7: DeprecationWarning: Call to deprecated `__getitem__` (Method will be removed in 4.0.0, use self.wv.__getitem__() instead).\n",
      "  import sys\n"
     ]
    }
   ],
   "source": [
    "avg_data = []\n",
    "for row in splitted:\n",
    "    vec = np.zeros(100)\n",
    "    count = 0\n",
    "    for word in row:\n",
    "        try:\n",
    "            vec += train_w2v[word]\n",
    "            count += 1\n",
    "        except:\n",
    "            pass\n",
    "    avg_data.append(vec/count)"
   ]
  },
  {
   "cell_type": "code",
   "execution_count": 23,
   "metadata": {},
   "outputs": [],
   "source": [
    "avg_data = np.array(avg_data)"
   ]
  },
  {
   "cell_type": "code",
   "execution_count": 24,
   "metadata": {},
   "outputs": [],
   "source": [
    "for i,(q , a) in enumerate(zip(QA['q'],QA['a'])):\n",
    "    QA_dict[i] = [q,a]                   "
   ]
  },
  {
   "cell_type": "code",
   "execution_count": 25,
   "metadata": {},
   "outputs": [],
   "source": [
    "def wv_test(q):\n",
    "    tq = [q]\n",
    "    tq = clean(tq)\n",
    "    tq = clean_col(tq)\n",
    "    splitted_test = []\n",
    "    for row in tq: \n",
    "        splitted_test.append([word for word in row.split()]) \n",
    "    avg_data_test = []\n",
    "    for row in splitted_test:\n",
    "        vec = np.zeros(100)\n",
    "        count = 0\n",
    "        for word in row:\n",
    "            try:\n",
    "                vec += train_w2v[word]\n",
    "                count += 1\n",
    "            except:\n",
    "                pass\n",
    "        avg_data_test.append(vec/count)\n",
    "    return np.array(avg_data_test)"
   ]
  },
  {
   "cell_type": "code",
   "execution_count": 26,
   "metadata": {
    "scrolled": true
   },
   "outputs": [
    {
     "data": {
      "text/plain": [
       "4     What symptoms do coronaviruses typically cause...\n",
       "23                       How can I help protect myself?\n",
       "77    How are COVID-19 and influenza viruses different?\n",
       "68    Is it possible to have the flu and COVID-19 at...\n",
       "74    Is there evidence for using hydroxychloroquine...\n",
       "7     Is the loss of smell an early coronavirus indi...\n",
       "60    How did the first human SARS-CoV-2 infections ...\n",
       "60    What cleaning products should I use to protect...\n",
       "19    What can I do to protect myself and prevent th...\n",
       "21    Is there evidence of a heightened risk to preg...\n",
       "12                 Why are we seeing a rise in cases?\\n\n",
       "89                  What is CDC doing about COVID-19?\\n\n",
       "32    Are the symptoms of COVID-19 di erent in child...\n",
       "6     Is there any concern mosquitoes carying the vi...\n",
       "91    Is it safe to vacuum in a school, business, or...\n",
       "24            Are COVID toes related to blood clotting?\n",
       "7                             How does COVID-19 spread?\n",
       "82    Does the science support limiting the number o...\n",
       "29    Should contact lens wearers take special preca...\n",
       "58    If someone goes for a jog through a neighborho...\n",
       "Name: q, dtype: object"
      ]
     },
     "execution_count": 26,
     "metadata": {},
     "output_type": "execute_result"
    }
   ],
   "source": [
    "QA['q'].sample(20)"
   ]
  },
  {
   "cell_type": "code",
   "execution_count": null,
   "metadata": {
    "scrolled": true
   },
   "outputs": [
    {
     "name": "stdout",
     "output_type": "stream",
     "text": [
      "Q: can animals spread the virus\n"
     ]
    },
    {
     "name": "stderr",
     "output_type": "stream",
     "text": [
      "C:\\Users\\uroot\\anaconda3\\envs\\ml\\lib\\site-packages\\ipykernel_launcher.py:14: DeprecationWarning: Call to deprecated `__getitem__` (Method will be removed in 4.0.0, use self.wv.__getitem__() instead).\n",
      "  \n"
     ]
    },
    {
     "name": "stdout",
     "output_type": "stream",
     "text": [
      "A:  At this time, CDC has no data to suggest that this new coronavirus or other similar coronaviruses are spread by\n",
      "mosquitoes or ticks. The main way that COVID-19 spreads is from person to person. See How Coronavirus Spreads for\n",
      "more information.\n",
      "\n",
      "Q: can the virus cause depression\n"
     ]
    },
    {
     "name": "stderr",
     "output_type": "stream",
     "text": [
      "C:\\Users\\uroot\\anaconda3\\envs\\ml\\lib\\site-packages\\ipykernel_launcher.py:14: DeprecationWarning: Call to deprecated `__getitem__` (Method will be removed in 4.0.0, use self.wv.__getitem__() instead).\n",
      "  \n"
     ]
    },
    {
     "name": "stdout",
     "output_type": "stream",
     "text": [
      "A:  At this time, CDC has no data to suggest that this new coronavirus or other similar coronaviruses are spread by\n",
      "mosquitoes or ticks. The main way that COVID-19 spreads is from person to person. See How Coronavirus Spreads for\n",
      "more information.\n",
      "\n",
      "Q: when will it end\n"
     ]
    },
    {
     "name": "stderr",
     "output_type": "stream",
     "text": [
      "C:\\Users\\uroot\\anaconda3\\envs\\ml\\lib\\site-packages\\ipykernel_launcher.py:14: DeprecationWarning: Call to deprecated `__getitem__` (Method will be removed in 4.0.0, use self.wv.__getitem__() instead).\n",
      "  \n"
     ]
    },
    {
     "name": "stdout",
     "output_type": "stream",
     "text": [
      "A:  Testing is particularly important for people who are seriously ill. Knowing the diagnosis is important for clinical care, allows health care workers to protect themselves, and is necessary for research into treatments.\n",
      "\n",
      "For people who are mildly or moderately ill, testing can help assure that they isolate themselves and alert people they have come in contact with of the potential need for quarantine. By quickly identifying individuals who are sick and isolating them, public health authorities can reduce the spread of the novel coronavirus.\n",
      "\n",
      "To assure both that tests are available for those who need them and that the health professionals are prepared to do the test safely, adequate safety equipment is essential. Not every clinic or medical office will conduct the testing. Physicians and public health authorities should direct people to where they can be tested. Given the limited availability of testing, there is much less urgency to test people who are feeling well.\n",
      "\n",
      "Also, wherever possible, people should not just show up at emergency departments for testing, in order to reduce the demand on hospitals as well as to protect themselves and others. It is much better to call ahead, determine that testing is appropriate and available, and follow instructions on where and when to go.\n",
      "Q: does it kill people\n"
     ]
    },
    {
     "name": "stderr",
     "output_type": "stream",
     "text": [
      "C:\\Users\\uroot\\anaconda3\\envs\\ml\\lib\\site-packages\\ipykernel_launcher.py:14: DeprecationWarning: Call to deprecated `__getitem__` (Method will be removed in 4.0.0, use self.wv.__getitem__() instead).\n",
      "  \n"
     ]
    },
    {
     "name": "stdout",
     "output_type": "stream",
     "text": [
      "A:  The virus that causes COVID-19 is thought to spread mainly from person to person, mainly through respiratory\n",
      "droplets produced when an infected person coughs or sneezes. These droplets can land in the mouths or noses of\n",
      "people who are nearby or possibly be inhaled into the lungs. Spread is more likely when people are in close contact\n",
      "with one another (within about 6 feet).\n",
      "COVID-19 seems to be spreading easily and sustainably in the community (“community spread”) in many a ected\n",
      "geographic areas. Community spread means people have been infected with the virus in an area, including some who\n",
      "are not sure how or where they became infected.\n",
      "\n"
     ]
    }
   ],
   "source": [
    "while True:\n",
    "    q = input(\"Q: \")\n",
    "    q = wv_test(q)\n",
    "    ranks = np.array([cosine_similarity(q.reshape(1,100),avg_data[i].reshape(1,100)) for i in range(QA.shape[0])]).reshape(QA.shape[0],1)\n",
    "    loc = np.argmax(ranks)  \n",
    "    a = QA_dict[loc][1]\n",
    "    print(\"A: \",a)"
   ]
  },
  {
   "cell_type": "code",
   "execution_count": null,
   "metadata": {},
   "outputs": [],
   "source": []
  }
 ],
 "metadata": {
  "kernelspec": {
   "display_name": "Python [conda env:ml]",
   "language": "python",
   "name": "conda-env-ml-py"
  },
  "language_info": {
   "codemirror_mode": {
    "name": "ipython",
    "version": 3
   },
   "file_extension": ".py",
   "mimetype": "text/x-python",
   "name": "python",
   "nbconvert_exporter": "python",
   "pygments_lexer": "ipython3",
   "version": "3.6.10"
  }
 },
 "nbformat": 4,
 "nbformat_minor": 4
}
