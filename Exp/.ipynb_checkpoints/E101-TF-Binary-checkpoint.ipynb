{
 "cells": [
  {
   "cell_type": "code",
   "execution_count": 1,
   "metadata": {},
   "outputs": [
    {
     "name": "stderr",
     "output_type": "stream",
     "text": [
      "C:\\Users\\uroot\\anaconda3\\envs\\ml\\lib\\site-packages\\sklearn\\utils\\deprecation.py:143: FutureWarning: The sklearn.feature_extraction.stop_words module is  deprecated in version 0.22 and will be removed in version 0.24. The corresponding classes / functions should instead be imported from sklearn.feature_extraction.text. Anything that cannot be imported from sklearn.feature_extraction.text is now part of the private API.\n",
      "  warnings.warn(message, FutureWarning)\n"
     ]
    }
   ],
   "source": [
    "import pandas as pd\n",
    "import numpy as np\n",
    "from sklearn.feature_extraction import stop_words\n",
    "import os\n",
    "from nltk.corpus import stopwords \n",
    "import nltk\n",
    "import re\n",
    "from gensim.models import Word2Vec\n",
    "from sklearn.metrics.pairwise import cosine_similarity,euclidean_distances\n",
    "from sklearn.feature_extraction.text import CountVectorizer          #For Bag of words\n",
    "from sklearn.feature_extraction.text import TfidfVectorizer"
   ]
  },
  {
   "cell_type": "code",
   "execution_count": 2,
   "metadata": {},
   "outputs": [],
   "source": [
    "#nltk.download('stopwords')"
   ]
  },
  {
   "cell_type": "code",
   "execution_count": 3,
   "metadata": {},
   "outputs": [],
   "source": [
    "stop = set(['?',',',':','@']) "
   ]
  },
  {
   "cell_type": "code",
   "execution_count": 4,
   "metadata": {},
   "outputs": [],
   "source": [
    "ROOT = '../data/'\n",
    "\n",
    "QA_dict = {}"
   ]
  },
  {
   "cell_type": "code",
   "execution_count": 5,
   "metadata": {},
   "outputs": [
    {
     "data": {
      "text/plain": [
       "['CDC.xlsx',\n",
       " 'Coronavirus (COVID-19) frequently asked questions _ CDC.pdf',\n",
       " 'covidquestionsca.xlsx',\n",
       " 'EAC.xlsx',\n",
       " 'JHU.xlsx',\n",
       " 'MOHKE.xlsx',\n",
       " 'sources.txt',\n",
       " 'WHO.xlsx']"
      ]
     },
     "execution_count": 5,
     "metadata": {},
     "output_type": "execute_result"
    }
   ],
   "source": [
    "os.listdir(ROOT)"
   ]
  },
  {
   "cell_type": "code",
   "execution_count": 6,
   "metadata": {},
   "outputs": [],
   "source": [
    "paths = [ROOT+d for d in os.listdir(ROOT) if d.endswith(\".xlsx\")]"
   ]
  },
  {
   "cell_type": "code",
   "execution_count": 7,
   "metadata": {},
   "outputs": [
    {
     "data": {
      "text/plain": [
       "['../data/CDC.xlsx',\n",
       " '../data/covidquestionsca.xlsx',\n",
       " '../data/EAC.xlsx',\n",
       " '../data/JHU.xlsx',\n",
       " '../data/MOHKE.xlsx',\n",
       " '../data/WHO.xlsx']"
      ]
     },
     "execution_count": 7,
     "metadata": {},
     "output_type": "execute_result"
    }
   ],
   "source": [
    "paths"
   ]
  },
  {
   "cell_type": "code",
   "execution_count": 8,
   "metadata": {},
   "outputs": [],
   "source": [
    "data = [ pd.read_excel(p, names = ['q','a']) for p in paths]"
   ]
  },
  {
   "cell_type": "code",
   "execution_count": 9,
   "metadata": {},
   "outputs": [],
   "source": [
    "QA = pd.DataFrame()"
   ]
  },
  {
   "cell_type": "code",
   "execution_count": 10,
   "metadata": {},
   "outputs": [
    {
     "name": "stdout",
     "output_type": "stream",
     "text": [
      "(116, 2)\n",
      "(10, 2)\n",
      "(26, 2)\n",
      "(86, 2)\n",
      "(85, 2)\n"
     ]
    }
   ],
   "source": [
    "for d in data[:]:\n",
    "    if d.shape[0]>0:\n",
    "        print(d.shape)\n",
    "        QA = pd.concat((QA,d),axis = 0)"
   ]
  },
  {
   "cell_type": "code",
   "execution_count": 11,
   "metadata": {},
   "outputs": [
    {
     "data": {
      "text/plain": [
       "(323, 2)"
      ]
     },
     "execution_count": 11,
     "metadata": {},
     "output_type": "execute_result"
    }
   ],
   "source": [
    "QA.shape"
   ]
  },
  {
   "cell_type": "code",
   "execution_count": 12,
   "metadata": {},
   "outputs": [
    {
     "data": {
      "text/html": [
       "<div>\n",
       "<style scoped>\n",
       "    .dataframe tbody tr th:only-of-type {\n",
       "        vertical-align: middle;\n",
       "    }\n",
       "\n",
       "    .dataframe tbody tr th {\n",
       "        vertical-align: top;\n",
       "    }\n",
       "\n",
       "    .dataframe thead th {\n",
       "        text-align: right;\n",
       "    }\n",
       "</style>\n",
       "<table border=\"1\" class=\"dataframe\">\n",
       "  <thead>\n",
       "    <tr style=\"text-align: right;\">\n",
       "      <th></th>\n",
       "      <th>q</th>\n",
       "      <th>a</th>\n",
       "    </tr>\n",
       "  </thead>\n",
       "  <tbody>\n",
       "    <tr>\n",
       "      <th>102</th>\n",
       "      <td>Should I avoid contact with pets or other anim...</td>\n",
       "      <td>We are still learning about this virus, but it...</td>\n",
       "    </tr>\n",
       "    <tr>\n",
       "      <th>3</th>\n",
       "      <td>What are the symptoms of COVID-19?</td>\n",
       "      <td>The most common symptoms of COVID-19 are fever...</td>\n",
       "    </tr>\n",
       "    <tr>\n",
       "      <th>48</th>\n",
       "      <td>Cleaning produce brought home from the grocery...</td>\n",
       "      <td>Here is general guidance on fruits and vegetab...</td>\n",
       "    </tr>\n",
       "    <tr>\n",
       "      <th>61</th>\n",
       "      <td>How did the first human SARS-CoV-2 infections ...</td>\n",
       "      <td>SARS-CoV, the virus which caused the SARS outb...</td>\n",
       "    </tr>\n",
       "    <tr>\n",
       "      <th>94</th>\n",
       "      <td>Who should clean and disinfect community space...</td>\n",
       "      <td>Regular cleaning sta can clean and disinfect c...</td>\n",
       "    </tr>\n",
       "    <tr>\n",
       "      <th>65</th>\n",
       "      <td>Will businesses and schools close or stay clos...</td>\n",
       "      <td>CDC makes recommendations, shares information,...</td>\n",
       "    </tr>\n",
       "    <tr>\n",
       "      <th>2</th>\n",
       "      <td>Why might someone blame or avoid individuals a...</td>\n",
       "      <td>People in the U.S. may be worried or anxious a...</td>\n",
       "    </tr>\n",
       "    <tr>\n",
       "      <th>14</th>\n",
       "      <td>Are there different “species” of coronavirus l...</td>\n",
       "      <td>Among the thousands of samples of the long str...</td>\n",
       "    </tr>\n",
       "    <tr>\n",
       "      <th>82</th>\n",
       "      <td>Does the science support limiting the number o...</td>\n",
       "      <td>Yes. We should be practicing social distancing...</td>\n",
       "    </tr>\n",
       "    <tr>\n",
       "      <th>115</th>\n",
       "      <td>Who is involved in community mitigation action...</td>\n",
       "      <td>Individuals, communities, schools, businesses ...</td>\n",
       "    </tr>\n",
       "  </tbody>\n",
       "</table>\n",
       "</div>"
      ],
      "text/plain": [
       "                                                     q  \\\n",
       "102  Should I avoid contact with pets or other anim...   \n",
       "3                   What are the symptoms of COVID-19?   \n",
       "48   Cleaning produce brought home from the grocery...   \n",
       "61   How did the first human SARS-CoV-2 infections ...   \n",
       "94   Who should clean and disinfect community space...   \n",
       "65   Will businesses and schools close or stay clos...   \n",
       "2    Why might someone blame or avoid individuals a...   \n",
       "14   Are there different “species” of coronavirus l...   \n",
       "82   Does the science support limiting the number o...   \n",
       "115  Who is involved in community mitigation action...   \n",
       "\n",
       "                                                     a  \n",
       "102  We are still learning about this virus, but it...  \n",
       "3    The most common symptoms of COVID-19 are fever...  \n",
       "48   Here is general guidance on fruits and vegetab...  \n",
       "61   SARS-CoV, the virus which caused the SARS outb...  \n",
       "94   Regular cleaning sta can clean and disinfect c...  \n",
       "65   CDC makes recommendations, shares information,...  \n",
       "2    People in the U.S. may be worried or anxious a...  \n",
       "14   Among the thousands of samples of the long str...  \n",
       "82   Yes. We should be practicing social distancing...  \n",
       "115  Individuals, communities, schools, businesses ...  "
      ]
     },
     "execution_count": 12,
     "metadata": {},
     "output_type": "execute_result"
    }
   ],
   "source": [
    "QA.sample(10)"
   ]
  },
  {
   "cell_type": "code",
   "execution_count": 13,
   "metadata": {},
   "outputs": [],
   "source": [
    " snow = nltk.stem.SnowballStemmer('english')"
   ]
  },
  {
   "cell_type": "code",
   "execution_count": 14,
   "metadata": {},
   "outputs": [],
   "source": [
    "def clean(q_a):\n",
    "    temp = []\n",
    "    snow = nltk.stem.SnowballStemmer('english')\n",
    "    for sentence in q_a:\n",
    "        sentence = str(sentence)\n",
    "        sentence = sentence.lower()                 # Converting to lowercase\n",
    "        cleanr = re.compile('<.*?>')\n",
    "        sentence = re.sub(cleanr, ' ', sentence)        #Removing HTML tags\n",
    "        sentence = re.sub(r'[?|!|\\'|\"|#]\\d',r'',sentence)\n",
    "        sentence = re.sub(r'[.|,|)|(|\\|/]@',r' ',sentence)        #Removing Punctuations\n",
    "        words = [snow.stem(word) for word in sentence.split() if word not in stop]   # Stemming and removing stopwords\n",
    "        temp.append(words)\n",
    "    q_a = temp  \n",
    "    return q_a"
   ]
  },
  {
   "cell_type": "code",
   "execution_count": 15,
   "metadata": {},
   "outputs": [],
   "source": [
    "def clean_col(c):\n",
    "    sent = []\n",
    "    for row in c:\n",
    "        sequ = ''\n",
    "        for word in row:\n",
    "            sequ = sequ + ' ' + word\n",
    "        sent.append(sequ)\n",
    "    c = sent\n",
    "    return c"
   ]
  },
  {
   "cell_type": "code",
   "execution_count": 16,
   "metadata": {},
   "outputs": [],
   "source": [
    "q_new =  clean_col(clean(QA['q']))\n",
    "a_new =  clean_col(clean(QA['a']))"
   ]
  },
  {
   "cell_type": "code",
   "execution_count": 17,
   "metadata": {},
   "outputs": [],
   "source": [
    "QA['q_new'] =  q_new\n",
    "QA['a_new'] = a_new"
   ]
  },
  {
   "cell_type": "code",
   "execution_count": 18,
   "metadata": {},
   "outputs": [
    {
     "data": {
      "text/html": [
       "<div>\n",
       "<style scoped>\n",
       "    .dataframe tbody tr th:only-of-type {\n",
       "        vertical-align: middle;\n",
       "    }\n",
       "\n",
       "    .dataframe tbody tr th {\n",
       "        vertical-align: top;\n",
       "    }\n",
       "\n",
       "    .dataframe thead th {\n",
       "        text-align: right;\n",
       "    }\n",
       "</style>\n",
       "<table border=\"1\" class=\"dataframe\">\n",
       "  <thead>\n",
       "    <tr style=\"text-align: right;\">\n",
       "      <th></th>\n",
       "      <th>q</th>\n",
       "      <th>a</th>\n",
       "      <th>q_new</th>\n",
       "      <th>a_new</th>\n",
       "    </tr>\n",
       "  </thead>\n",
       "  <tbody>\n",
       "    <tr>\n",
       "      <th>0</th>\n",
       "      <td>What is a novel coronavirus?</td>\n",
       "      <td>A novel coronavirus is a new coronavirus that ...</td>\n",
       "      <td>what is a novel coronavirus?</td>\n",
       "      <td>a novel coronavirus is a new coronavirus that...</td>\n",
       "    </tr>\n",
       "    <tr>\n",
       "      <th>1</th>\n",
       "      <td>Why is the disease being called coronavirus di...</td>\n",
       "      <td>On February 11, 2020 the World Health Organiza...</td>\n",
       "      <td>whi is the diseas be call coronavirus diseas ...</td>\n",
       "      <td>on februari 11, 2020 the world health organ a...</td>\n",
       "    </tr>\n",
       "    <tr>\n",
       "      <th>2</th>\n",
       "      <td>Why might someone blame or avoid individuals a...</td>\n",
       "      <td>People in the U.S. may be worried or anxious a...</td>\n",
       "      <td>whi might someon blame or avoid individu and ...</td>\n",
       "      <td>peopl in the u.s. may be worri or anxious abo...</td>\n",
       "    </tr>\n",
       "    <tr>\n",
       "      <th>3</th>\n",
       "      <td>How can people help stop stigma related to COV...</td>\n",
       "      <td>People can ght stigma by providing social supp...</td>\n",
       "      <td>how can peopl help stop stigma relat to covid...</td>\n",
       "      <td>peopl can ght stigma by provid social support...</td>\n",
       "    </tr>\n",
       "    <tr>\n",
       "      <th>4</th>\n",
       "      <td>Why do some state’s COVID-19 case numbers some...</td>\n",
       "      <td>CDC’s overall case numbers are validated throu...</td>\n",
       "      <td>whi do some state covid-19 case number someti...</td>\n",
       "      <td>cdc overal case number are valid through a co...</td>\n",
       "    </tr>\n",
       "  </tbody>\n",
       "</table>\n",
       "</div>"
      ],
      "text/plain": [
       "                                                   q  \\\n",
       "0                       What is a novel coronavirus?   \n",
       "1  Why is the disease being called coronavirus di...   \n",
       "2  Why might someone blame or avoid individuals a...   \n",
       "3  How can people help stop stigma related to COV...   \n",
       "4  Why do some state’s COVID-19 case numbers some...   \n",
       "\n",
       "                                                   a  \\\n",
       "0  A novel coronavirus is a new coronavirus that ...   \n",
       "1  On February 11, 2020 the World Health Organiza...   \n",
       "2  People in the U.S. may be worried or anxious a...   \n",
       "3  People can ght stigma by providing social supp...   \n",
       "4  CDC’s overall case numbers are validated throu...   \n",
       "\n",
       "                                               q_new  \\\n",
       "0                       what is a novel coronavirus?   \n",
       "1   whi is the diseas be call coronavirus diseas ...   \n",
       "2   whi might someon blame or avoid individu and ...   \n",
       "3   how can peopl help stop stigma relat to covid...   \n",
       "4   whi do some state covid-19 case number someti...   \n",
       "\n",
       "                                               a_new  \n",
       "0   a novel coronavirus is a new coronavirus that...  \n",
       "1   on februari 11, 2020 the world health organ a...  \n",
       "2   peopl in the u.s. may be worri or anxious abo...  \n",
       "3   peopl can ght stigma by provid social support...  \n",
       "4   cdc overal case number are valid through a co...  "
      ]
     },
     "execution_count": 18,
     "metadata": {},
     "output_type": "execute_result"
    }
   ],
   "source": [
    "QA.head()"
   ]
  },
  {
   "cell_type": "code",
   "execution_count": 23,
   "metadata": {},
   "outputs": [],
   "source": [
    "count_vect = CountVectorizer(binary=True)\n",
    "bow_data = count_vect.fit_transform(QA['q_new'])"
   ]
  },
  {
   "cell_type": "code",
   "execution_count": 24,
   "metadata": {},
   "outputs": [],
   "source": [
    "tq = [\"cornonavirus\"]\n",
    "tq = clean(tq)\n",
    "tq = clean_col(tq)"
   ]
  },
  {
   "cell_type": "code",
   "execution_count": 25,
   "metadata": {},
   "outputs": [],
   "source": [
    "r = count_vect.transform(tq)"
   ]
  },
  {
   "cell_type": "code",
   "execution_count": 26,
   "metadata": {},
   "outputs": [],
   "source": [
    "for i,(q , a) in enumerate(zip(QA['q'],QA['a'])):\n",
    "    QA_dict[i] = [q,a]                   "
   ]
  },
  {
   "cell_type": "code",
   "execution_count": 27,
   "metadata": {},
   "outputs": [],
   "source": [
    "def cv_test(q):\n",
    "    tq = [q]\n",
    "    tq = clean(tq)\n",
    "    tq = clean_col(tq)\n",
    "    r = count_vect.transform(tq)\n",
    "    return r"
   ]
  },
  {
   "cell_type": "code",
   "execution_count": 28,
   "metadata": {
    "scrolled": true
   },
   "outputs": [
    {
     "data": {
      "text/plain": [
       "61                 Are my pets at risk of getting sick?\n",
       "18    Is it safe to use public transport (Dalla Dall...\n",
       "67    Wet markets in China are widely believed to be...\n",
       "21    Does eating bush meat pose a risk for COVID-19...\n",
       "52      What if my child needs to go to the hospital?\\n\n",
       "28    Should people on immunosuppressive drugs stop ...\n",
       "6                    What are the symptoms of COVID-19?\n",
       "36    Is the current spike in cases a result of incr...\n",
       "0                                What is a coronavirus?\n",
       "21      Am I at risk for COVID-19 in the United States?\n",
       "72         What treatments are there for coronaviruses?\n",
       "42    While school’s out, how can I keep my family h...\n",
       "49      How can my family cope with the added stress?\\n\n",
       "9         When and how should I seek medical attention?\n",
       "13                                                  NaN\n",
       "52    Is it correct that if someone in your home is ...\n",
       "80    For businesses that remain open, what are best...\n",
       "98    Can sanitizing tunnels be used at building ent...\n",
       "57                   Is there anything I should not do?\n",
       "6     Is there any concern mosquitoes carying the vi...\n",
       "Name: q, dtype: object"
      ]
     },
     "execution_count": 28,
     "metadata": {},
     "output_type": "execute_result"
    }
   ],
   "source": [
    "QA['q'].sample(20)"
   ]
  },
  {
   "cell_type": "code",
   "execution_count": 29,
   "metadata": {},
   "outputs": [
    {
     "data": {
      "text/plain": [
       "True"
      ]
     },
     "execution_count": 29,
     "metadata": {},
     "output_type": "execute_result"
    }
   ],
   "source": [
    "QA.shape[0] == bow_data.shape[0]"
   ]
  },
  {
   "cell_type": "code",
   "execution_count": 30,
   "metadata": {},
   "outputs": [
    {
     "data": {
      "text/plain": [
       "(1, 723)"
      ]
     },
     "execution_count": 30,
     "metadata": {},
     "output_type": "execute_result"
    }
   ],
   "source": [
    "bow_data[0].shape"
   ]
  },
  {
   "cell_type": "code",
   "execution_count": 31,
   "metadata": {},
   "outputs": [
    {
     "data": {
      "text/plain": [
       "(1, 723)"
      ]
     },
     "execution_count": 31,
     "metadata": {},
     "output_type": "execute_result"
    }
   ],
   "source": [
    "r.shape"
   ]
  },
  {
   "cell_type": "code",
   "execution_count": null,
   "metadata": {
    "scrolled": true
   },
   "outputs": [
    {
     "name": "stdout",
     "output_type": "stream",
     "text": [
      "Q: keep my family safe\n",
      "A:  Watch your child for any signs of illness. If you see any sign of illness consistent with symptoms of COVID-19, particularly fever, cough, or shortness of breath, call your healthcare provider and keep your child at home and away from others as much as possible.Follow CDC’s guidance on “What to do if you are sick.”\n",
      "\n",
      "Q: sings\n",
      "A:  A novel coronavirus is a new coronavirus that has not been previously identied. The virus causing coronavirus\n",
      "disease 2019 (COVID-19), is not the same as the coronaviruses that commonly circulate among humans and cause\n",
      "mild illness, like the common cold.\n",
      "\n",
      "Q: signs\n",
      "A:  A novel coronavirus is a new coronavirus that has not been previously identied. The virus causing coronavirus\n",
      "disease 2019 (COVID-19), is not the same as the coronaviruses that commonly circulate among humans and cause\n",
      "mild illness, like the common cold.\n",
      "\n",
      "Q: test\n",
      "A:  Testing is particularly important for people who are seriously ill. Knowing the diagnosis is important for clinical care, allows health care workers to protect themselves, and is necessary for research into treatments.\n",
      "\n",
      "For people who are mildly or moderately ill, testing can help assure that they isolate themselves and alert people they have come in contact with of the potential need for quarantine. By quickly identifying individuals who are sick and isolating them, public health authorities can reduce the spread of the novel coronavirus.\n",
      "\n",
      "To assure both that tests are available for those who need them and that the health professionals are prepared to do the test safely, adequate safety equipment is essential. Not every clinic or medical office will conduct the testing. Physicians and public health authorities should direct people to where they can be tested. Given the limited availability of testing, there is much less urgency to test people who are feeling well.\n",
      "\n",
      "Also, wherever possible, people should not just show up at emergency departments for testing, in order to reduce the demand on hospitals as well as to protect themselves and others. It is much better to call ahead, determine that testing is appropriate and available, and follow instructions on where and when to go.\n",
      "Q: illness\n",
      "A:  Severity typically means how much impact the illness or condition has on your body’s function. You should talk with\n",
      "your healthcare provider if you have a question about your health or how your health condition is being managed.\n",
      "\n",
      "Q: where can i get tested\n",
      "A:  The process and locations for testing vary from place to place. Contact your state, local, tribal, or territorial\n",
      "department for more information, or reach out to a medical provider. State and local public health departments have\n",
      "received tests from CDC while medical providers are getting tests developed by commercial manufacturers. While\n",
      "supplies of these tests are increasing, it may still be di cult to nd someplace to get tested. See Testing for COVID-\n",
      "19 for more information.\n",
      "\n",
      "Q: depression\n",
      "A:  A novel coronavirus is a new coronavirus that has not been previously identied. The virus causing coronavirus\n",
      "disease 2019 (COVID-19), is not the same as the coronaviruses that commonly circulate among humans and cause\n",
      "mild illness, like the common cold.\n",
      "\n",
      "Q: can animals spread the virus\n",
      "A:  The virus that causes COVID-19 is thought to spread mainly from person to person, mainly through respiratory\n",
      "droplets produced when an infected person coughs or sneezes. These droplets can land in the mouths or noses of\n",
      "people who are nearby or possibly be inhaled into the lungs. Spread is more likely when people are in close contact\n",
      "with one another (within about 6 feet).\n",
      "COVID-19 seems to be spreading easily and sustainably in the community (“community spread”) in many a ected\n",
      "geographic areas. Community spread means people have been infected with the virus in an area, including some who\n",
      "are not sure how or where they became infected.\n",
      "\n",
      "Q: when will it end\n",
      "A:  CDC and partners are investigating to determine if you can get sick with COVID-19 more than once. At this time, we are\n",
      "not sure if you can become re-infected. Until we know more, continue to take steps to protect yourself and others.\n",
      "\n",
      "Q: does it kill people\n",
      "A:  Developing a vaccine takes time, in most cases several years, as they need to undergo extensive testing in clinical trials to determine their safety and efficacy.\n",
      "Q: symptoms\n",
      "A:  The most common symptoms of COVID-19 are fever, tiredness, and dry cough. Some patients may have aches and pains, nasal congestion, runny nose, sore throat or diarrhoea. These symptoms are usually mild and begin gradually. Some people become infected but don’t develop any symptoms and don't feel unwell. Most people (about 80%) recover from the disease without needing special treatment. Around 1 out of every 6 people who gets COVID-19 becomes seriously ill and develops difficulty breathing.\n",
      "Q:  What is CDC doing about COVID-19\n",
      "A:  CDC is working with other federal partners in a whole-of-government response. This is an emerging, rapidly evolving\n",
      "situation and CDC will continue to provide updated information as it becomes available. CDC works 24/7 to protect\n",
      "people’s health. More information about CDC’s response to COVID-19 is available online.\n",
      "\n",
      "Q: do we have treatment?\n",
      "A:  People who have symptoms should assume they have it, isolate themselves from other people, talk to people they may have exposed in the days prior to experiencing symptoms, and recommend that those contacts self-quarantine. Mayors should reinforce this message. Having a call center or using 311 for coronavirus response could help mayors and public health officials provide these messages. Such a system can also be a way to keep track of the epidemic. If you give people experiencing symptoms the option to go online or call for help with food delivery or other services, you can log them into a database, and, to the extent that the health department is able, do contact tracing, make referrals, and offer support. \n",
      "Q: jogging\n",
      "A:  No. The majority of transmissions of this virus occur through droplet transmission. This means that a sick patient who coughs or sneezes is expelling virus through droplets that don’t travel that far. They tend to fall to surfaces within a six-foot distance. If you touch a surface that is contaminated with droplets from someone who has coughed or sneezed on it and then you touch your eyes or nose or mouth, you could potentially become infected that way. \n",
      "Q: pregnant women\n",
      "A:  Testing protocols and eligibility vary depending on where you live.\n",
      "Q: Should I stay inside the house\n",
      "A:  Do not need to wear a facemask unless you are sick or are caring for someone who is sick (and they are not able to wear a facemask). Leave the masks to those who really need them.\n"
     ]
    }
   ],
   "source": [
    "while True:\n",
    "    q = input(\"Q: \")\n",
    "    q = cv_test(q)\n",
    "    ranks = np.array([cosine_similarity(q,bow_data[i]) for i in range(QA.shape[0])]).reshape(QA.shape[0],1)\n",
    "    loc = np.argmax(ranks)  \n",
    "    a = QA_dict[loc][1]\n",
    "    print(\"A: \",a)"
   ]
  },
  {
   "cell_type": "code",
   "execution_count": null,
   "metadata": {},
   "outputs": [],
   "source": []
  }
 ],
 "metadata": {
  "kernelspec": {
   "display_name": "Python [conda env:ml]",
   "language": "python",
   "name": "conda-env-ml-py"
  },
  "language_info": {
   "codemirror_mode": {
    "name": "ipython",
    "version": 3
   },
   "file_extension": ".py",
   "mimetype": "text/x-python",
   "name": "python",
   "nbconvert_exporter": "python",
   "pygments_lexer": "ipython3",
   "version": "3.6.10"
  }
 },
 "nbformat": 4,
 "nbformat_minor": 4
}
