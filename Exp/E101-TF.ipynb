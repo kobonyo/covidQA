{
 "cells": [
  {
   "cell_type": "code",
   "execution_count": 6,
   "metadata": {},
   "outputs": [],
   "source": [
    "import pandas as pd\n",
    "import numpy as np\n",
    "from sklearn.feature_extraction import stop_words\n",
    "import os\n",
    "from nltk.corpus import stopwords \n",
    "import nltk\n",
    "import re\n",
    "from gensim.models import Word2Vec\n",
    "from sklearn.metrics.pairwise import cosine_similarity,euclidean_distances\n",
    "from sklearn.feature_extraction.text import CountVectorizer          #For Bag of words\n",
    "from sklearn.feature_extraction.text import TfidfVectorizer"
   ]
  },
  {
   "cell_type": "code",
   "execution_count": 7,
   "metadata": {},
   "outputs": [],
   "source": [
    "#nltk.download('stopwords')"
   ]
  },
  {
   "cell_type": "code",
   "execution_count": 8,
   "metadata": {},
   "outputs": [],
   "source": [
    "stop = set(['?',',',':','@']) "
   ]
  },
  {
   "cell_type": "code",
   "execution_count": 9,
   "metadata": {},
   "outputs": [],
   "source": [
    "ROOT = '../data/'\n",
    "\n",
    "QA_dict = {}"
   ]
  },
  {
   "cell_type": "code",
   "execution_count": 10,
   "metadata": {},
   "outputs": [
    {
     "data": {
      "text/plain": [
       "['CDC.xlsx',\n",
       " 'Coronavirus (COVID-19) frequently asked questions _ CDC.pdf',\n",
       " 'covidquestionsca.xlsx',\n",
       " 'EAC.xlsx',\n",
       " 'JHU.xlsx',\n",
       " 'MOHKE.xlsx',\n",
       " 'sources.txt',\n",
       " 'WHO.xlsx']"
      ]
     },
     "execution_count": 10,
     "metadata": {},
     "output_type": "execute_result"
    }
   ],
   "source": [
    "os.listdir(ROOT)"
   ]
  },
  {
   "cell_type": "code",
   "execution_count": 11,
   "metadata": {},
   "outputs": [],
   "source": [
    "paths = [ROOT+d for d in os.listdir(ROOT) if d.endswith(\".xlsx\")]"
   ]
  },
  {
   "cell_type": "code",
   "execution_count": 12,
   "metadata": {},
   "outputs": [
    {
     "data": {
      "text/plain": [
       "['../data/CDC.xlsx',\n",
       " '../data/covidquestionsca.xlsx',\n",
       " '../data/EAC.xlsx',\n",
       " '../data/JHU.xlsx',\n",
       " '../data/MOHKE.xlsx',\n",
       " '../data/WHO.xlsx']"
      ]
     },
     "execution_count": 12,
     "metadata": {},
     "output_type": "execute_result"
    }
   ],
   "source": [
    "paths"
   ]
  },
  {
   "cell_type": "code",
   "execution_count": 13,
   "metadata": {},
   "outputs": [],
   "source": [
    "data = [ pd.read_excel(p, names = ['q','a']) for p in paths]"
   ]
  },
  {
   "cell_type": "code",
   "execution_count": 14,
   "metadata": {},
   "outputs": [],
   "source": [
    "QA = pd.DataFrame()"
   ]
  },
  {
   "cell_type": "code",
   "execution_count": 15,
   "metadata": {},
   "outputs": [
    {
     "name": "stdout",
     "output_type": "stream",
     "text": [
      "(116, 2)\n",
      "(10, 2)\n",
      "(26, 2)\n",
      "(86, 2)\n",
      "(85, 2)\n"
     ]
    }
   ],
   "source": [
    "for d in data[:]:\n",
    "    if d.shape[0]>0:\n",
    "        print(d.shape)\n",
    "        QA = pd.concat((QA,d),axis = 0)"
   ]
  },
  {
   "cell_type": "code",
   "execution_count": 16,
   "metadata": {},
   "outputs": [
    {
     "data": {
      "text/plain": [
       "(323, 2)"
      ]
     },
     "execution_count": 16,
     "metadata": {},
     "output_type": "execute_result"
    }
   ],
   "source": [
    "QA.shape"
   ]
  },
  {
   "cell_type": "code",
   "execution_count": 17,
   "metadata": {},
   "outputs": [
    {
     "data": {
      "text/html": [
       "<div>\n",
       "<style scoped>\n",
       "    .dataframe tbody tr th:only-of-type {\n",
       "        vertical-align: middle;\n",
       "    }\n",
       "\n",
       "    .dataframe tbody tr th {\n",
       "        vertical-align: top;\n",
       "    }\n",
       "\n",
       "    .dataframe thead th {\n",
       "        text-align: right;\n",
       "    }\n",
       "</style>\n",
       "<table border=\"1\" class=\"dataframe\">\n",
       "  <thead>\n",
       "    <tr style=\"text-align: right;\">\n",
       "      <th></th>\n",
       "      <th>q</th>\n",
       "      <th>a</th>\n",
       "    </tr>\n",
       "  </thead>\n",
       "  <tbody>\n",
       "    <tr>\n",
       "      <th>67</th>\n",
       "      <td>What are the symptoms and complications that C...</td>\n",
       "      <td>People with COVID-19 have had a wide range of ...</td>\n",
       "    </tr>\n",
       "    <tr>\n",
       "      <th>21</th>\n",
       "      <td>Am I at risk for COVID-19 in the United States?</td>\n",
       "      <td>This is a rapidly evolving situation and the r...</td>\n",
       "    </tr>\n",
       "    <tr>\n",
       "      <th>7</th>\n",
       "      <td>Why do the number of cases for previous days i...</td>\n",
       "      <td>Delays in reporting can cause the number of CO...</td>\n",
       "    </tr>\n",
       "    <tr>\n",
       "      <th>85</th>\n",
       "      <td>Are residents of homeless shelters a vulnerabl...</td>\n",
       "      <td>Yes. Homeless shelters are often overcrowded a...</td>\n",
       "    </tr>\n",
       "    <tr>\n",
       "      <th>33</th>\n",
       "      <td>Should children wear masks?\\n</td>\n",
       "      <td>CDC recommends that everyone 2 years and older...</td>\n",
       "    </tr>\n",
       "    <tr>\n",
       "      <th>56</th>\n",
       "      <td>When to Seek Emergency Medical Attention\\n</td>\n",
       "      <td>Look for emergency warning signs* for COVID-19...</td>\n",
       "    </tr>\n",
       "    <tr>\n",
       "      <th>78</th>\n",
       "      <td>How are COVID-19 and influenza viruses different?</td>\n",
       "      <td>Mortality for COVID-19 appears higher than for...</td>\n",
       "    </tr>\n",
       "    <tr>\n",
       "      <th>86</th>\n",
       "      <td>What do funeral home workers need to know abou...</td>\n",
       "      <td>A funeral or visitation service can be held fo...</td>\n",
       "    </tr>\n",
       "    <tr>\n",
       "      <th>50</th>\n",
       "      <td>What if my child or someone else in the home i...</td>\n",
       "      <td>If your child with special healthcare needs be...</td>\n",
       "    </tr>\n",
       "    <tr>\n",
       "      <th>76</th>\n",
       "      <td>How are COVID-19 and influenza viruses different?</td>\n",
       "      <td>The speed of transmission is an important poin...</td>\n",
       "    </tr>\n",
       "  </tbody>\n",
       "</table>\n",
       "</div>"
      ],
      "text/plain": [
       "                                                    q  \\\n",
       "67  What are the symptoms and complications that C...   \n",
       "21    Am I at risk for COVID-19 in the United States?   \n",
       "7   Why do the number of cases for previous days i...   \n",
       "85  Are residents of homeless shelters a vulnerabl...   \n",
       "33                      Should children wear masks?\\n   \n",
       "56         When to Seek Emergency Medical Attention\\n   \n",
       "78  How are COVID-19 and influenza viruses different?   \n",
       "86  What do funeral home workers need to know abou...   \n",
       "50  What if my child or someone else in the home i...   \n",
       "76  How are COVID-19 and influenza viruses different?   \n",
       "\n",
       "                                                    a  \n",
       "67  People with COVID-19 have had a wide range of ...  \n",
       "21  This is a rapidly evolving situation and the r...  \n",
       "7   Delays in reporting can cause the number of CO...  \n",
       "85  Yes. Homeless shelters are often overcrowded a...  \n",
       "33  CDC recommends that everyone 2 years and older...  \n",
       "56  Look for emergency warning signs* for COVID-19...  \n",
       "78  Mortality for COVID-19 appears higher than for...  \n",
       "86  A funeral or visitation service can be held fo...  \n",
       "50  If your child with special healthcare needs be...  \n",
       "76  The speed of transmission is an important poin...  "
      ]
     },
     "execution_count": 17,
     "metadata": {},
     "output_type": "execute_result"
    }
   ],
   "source": [
    "QA.sample(10)"
   ]
  },
  {
   "cell_type": "code",
   "execution_count": 18,
   "metadata": {},
   "outputs": [],
   "source": [
    " snow = nltk.stem.SnowballStemmer('english')"
   ]
  },
  {
   "cell_type": "code",
   "execution_count": 19,
   "metadata": {},
   "outputs": [],
   "source": [
    "def clean(q_a):\n",
    "    temp = []\n",
    "    snow = nltk.stem.SnowballStemmer('english')\n",
    "    for sentence in q_a:\n",
    "        sentence = str(sentence)\n",
    "        sentence = sentence.lower()                 # Converting to lowercase\n",
    "        cleanr = re.compile('<.*?>')\n",
    "        sentence = re.sub(cleanr, ' ', sentence)        #Removing HTML tags\n",
    "        sentence = re.sub(r'[?|!|\\'|\"|#]\\d',r'',sentence)\n",
    "        sentence = re.sub(r'[.|,|)|(|\\|/]@',r' ',sentence)        #Removing Punctuations\n",
    "        words = [snow.stem(word) for word in sentence.split() if word not in stop]   # Stemming and removing stopwords\n",
    "        temp.append(words)\n",
    "    q_a = temp  \n",
    "    return q_a"
   ]
  },
  {
   "cell_type": "code",
   "execution_count": 20,
   "metadata": {},
   "outputs": [],
   "source": [
    "def clean_col(c):\n",
    "    sent = []\n",
    "    for row in c:\n",
    "        sequ = ''\n",
    "        for word in row:\n",
    "            sequ = sequ + ' ' + word\n",
    "        sent.append(sequ)\n",
    "    c = sent\n",
    "    return c"
   ]
  },
  {
   "cell_type": "code",
   "execution_count": 21,
   "metadata": {},
   "outputs": [],
   "source": [
    "q_new =  clean_col(clean(QA['q']))\n",
    "a_new =  clean_col(clean(QA['a']))"
   ]
  },
  {
   "cell_type": "code",
   "execution_count": 22,
   "metadata": {},
   "outputs": [],
   "source": [
    "QA['q_new'] =  q_new\n",
    "QA['a_new'] = a_new"
   ]
  },
  {
   "cell_type": "code",
   "execution_count": 23,
   "metadata": {},
   "outputs": [
    {
     "data": {
      "text/html": [
       "<div>\n",
       "<style scoped>\n",
       "    .dataframe tbody tr th:only-of-type {\n",
       "        vertical-align: middle;\n",
       "    }\n",
       "\n",
       "    .dataframe tbody tr th {\n",
       "        vertical-align: top;\n",
       "    }\n",
       "\n",
       "    .dataframe thead th {\n",
       "        text-align: right;\n",
       "    }\n",
       "</style>\n",
       "<table border=\"1\" class=\"dataframe\">\n",
       "  <thead>\n",
       "    <tr style=\"text-align: right;\">\n",
       "      <th></th>\n",
       "      <th>q</th>\n",
       "      <th>a</th>\n",
       "      <th>q_new</th>\n",
       "      <th>a_new</th>\n",
       "    </tr>\n",
       "  </thead>\n",
       "  <tbody>\n",
       "    <tr>\n",
       "      <th>0</th>\n",
       "      <td>What is a novel coronavirus?</td>\n",
       "      <td>A novel coronavirus is a new coronavirus that ...</td>\n",
       "      <td>what is a novel coronavirus?</td>\n",
       "      <td>a novel coronavirus is a new coronavirus that...</td>\n",
       "    </tr>\n",
       "    <tr>\n",
       "      <th>1</th>\n",
       "      <td>Why is the disease being called coronavirus di...</td>\n",
       "      <td>On February 11, 2020 the World Health Organiza...</td>\n",
       "      <td>whi is the diseas be call coronavirus diseas ...</td>\n",
       "      <td>on februari 11, 2020 the world health organ a...</td>\n",
       "    </tr>\n",
       "    <tr>\n",
       "      <th>2</th>\n",
       "      <td>Why might someone blame or avoid individuals a...</td>\n",
       "      <td>People in the U.S. may be worried or anxious a...</td>\n",
       "      <td>whi might someon blame or avoid individu and ...</td>\n",
       "      <td>peopl in the u.s. may be worri or anxious abo...</td>\n",
       "    </tr>\n",
       "    <tr>\n",
       "      <th>3</th>\n",
       "      <td>How can people help stop stigma related to COV...</td>\n",
       "      <td>People can ght stigma by providing social supp...</td>\n",
       "      <td>how can peopl help stop stigma relat to covid...</td>\n",
       "      <td>peopl can ght stigma by provid social support...</td>\n",
       "    </tr>\n",
       "    <tr>\n",
       "      <th>4</th>\n",
       "      <td>Why do some state’s COVID-19 case numbers some...</td>\n",
       "      <td>CDC’s overall case numbers are validated throu...</td>\n",
       "      <td>whi do some state covid-19 case number someti...</td>\n",
       "      <td>cdc overal case number are valid through a co...</td>\n",
       "    </tr>\n",
       "  </tbody>\n",
       "</table>\n",
       "</div>"
      ],
      "text/plain": [
       "                                                   q  \\\n",
       "0                       What is a novel coronavirus?   \n",
       "1  Why is the disease being called coronavirus di...   \n",
       "2  Why might someone blame or avoid individuals a...   \n",
       "3  How can people help stop stigma related to COV...   \n",
       "4  Why do some state’s COVID-19 case numbers some...   \n",
       "\n",
       "                                                   a  \\\n",
       "0  A novel coronavirus is a new coronavirus that ...   \n",
       "1  On February 11, 2020 the World Health Organiza...   \n",
       "2  People in the U.S. may be worried or anxious a...   \n",
       "3  People can ght stigma by providing social supp...   \n",
       "4  CDC’s overall case numbers are validated throu...   \n",
       "\n",
       "                                               q_new  \\\n",
       "0                       what is a novel coronavirus?   \n",
       "1   whi is the diseas be call coronavirus diseas ...   \n",
       "2   whi might someon blame or avoid individu and ...   \n",
       "3   how can peopl help stop stigma relat to covid...   \n",
       "4   whi do some state covid-19 case number someti...   \n",
       "\n",
       "                                               a_new  \n",
       "0   a novel coronavirus is a new coronavirus that...  \n",
       "1   on februari 11, 2020 the world health organ a...  \n",
       "2   peopl in the u.s. may be worri or anxious abo...  \n",
       "3   peopl can ght stigma by provid social support...  \n",
       "4   cdc overal case number are valid through a co...  "
      ]
     },
     "execution_count": 23,
     "metadata": {},
     "output_type": "execute_result"
    }
   ],
   "source": [
    "QA.head()"
   ]
  },
  {
   "cell_type": "code",
   "execution_count": 27,
   "metadata": {},
   "outputs": [],
   "source": [
    "count_vect = CountVectorizer()\n",
    "bow_data = count_vect.fit_transform(QA['q_new'])"
   ]
  },
  {
   "cell_type": "code",
   "execution_count": 29,
   "metadata": {},
   "outputs": [],
   "source": [
    "tq = [\"cornonavirus\"]\n",
    "tq = clean(tq)\n",
    "tq = clean_col(tq)"
   ]
  },
  {
   "cell_type": "code",
   "execution_count": 30,
   "metadata": {},
   "outputs": [],
   "source": [
    "r = count_vect.transform(tq)"
   ]
  },
  {
   "cell_type": "code",
   "execution_count": 28,
   "metadata": {},
   "outputs": [],
   "source": [
    "for i,(q , a) in enumerate(zip(QA['q'],QA['a'])):\n",
    "    QA_dict[i] = [q,a]                   "
   ]
  },
  {
   "cell_type": "code",
   "execution_count": 37,
   "metadata": {},
   "outputs": [],
   "source": [
    "def cv_test(q):\n",
    "    tq = [q]\n",
    "    tq = clean(tq)\n",
    "    tq = clean_col(tq)\n",
    "    r = count_vect.transform(tq)\n",
    "    return r"
   ]
  },
  {
   "cell_type": "code",
   "execution_count": 38,
   "metadata": {
    "scrolled": true
   },
   "outputs": [
    {
     "data": {
      "text/plain": [
       "21    Protection measures for persons who are in or ...\n",
       "94    Who should clean and disinfect community space...\n",
       "29    Should contact lens wearers take special preca...\n",
       "87    What should I do if my family member died from...\n",
       "25    What makes this upper respiratory infection ca...\n",
       "59    How should I help a friend, neighbor, or famil...\n",
       "38    What is the difference between molecular tests...\n",
       "30    How is COVID-19 is impacting people without sp...\n",
       "4                    What are the symptoms of COVID-19?\n",
       "59    Should I use soap and water or a hand sanitize...\n",
       "15                 Is there a vaccine against COVID-19?\n",
       "20    Is there a difference between hospital-acquire...\n",
       "19                     Can I attend the church service?\n",
       "71    Do pregnant women with suspected or confirmed ...\n",
       "93    Is cleaning alone e ective against the virus t...\n",
       "71    Many of these viruses come from bats, but bats...\n",
       "47    Can humans be infected with the COVID-19 from ...\n",
       "12                 Why are we seeing a rise in cases?\\n\n",
       "78    Why is the world’s response to COVID-19 so muc...\n",
       "49    Is takeout food safe? What precautions should ...\n",
       "Name: q, dtype: object"
      ]
     },
     "execution_count": 38,
     "metadata": {},
     "output_type": "execute_result"
    }
   ],
   "source": [
    "QA['q'].sample(20)"
   ]
  },
  {
   "cell_type": "code",
   "execution_count": 39,
   "metadata": {},
   "outputs": [
    {
     "data": {
      "text/plain": [
       "True"
      ]
     },
     "execution_count": 39,
     "metadata": {},
     "output_type": "execute_result"
    }
   ],
   "source": [
    "QA.shape[0] == bow_data.shape[0]"
   ]
  },
  {
   "cell_type": "code",
   "execution_count": 41,
   "metadata": {},
   "outputs": [
    {
     "data": {
      "text/plain": [
       "(1, 723)"
      ]
     },
     "execution_count": 41,
     "metadata": {},
     "output_type": "execute_result"
    }
   ],
   "source": [
    "bow_data[0].shape"
   ]
  },
  {
   "cell_type": "code",
   "execution_count": 43,
   "metadata": {},
   "outputs": [
    {
     "data": {
      "text/plain": [
       "(1, 723)"
      ]
     },
     "execution_count": 43,
     "metadata": {},
     "output_type": "execute_result"
    }
   ],
   "source": [
    "r.shape"
   ]
  },
  {
   "cell_type": "code",
   "execution_count": null,
   "metadata": {
    "scrolled": true
   },
   "outputs": [
    {
     "name": "stdout",
     "output_type": "stream",
     "text": [
      "Q: what is coronavirus\n",
      "A:  Coronaviruses are a large family of viruses which occur naturally in animals and may cause illness in animals and humans. In humans, coronaviruses cause respiratory infections ranging from common colds with mild symptoms to more severe diseases such as the Middle East Respiratory Syndrome (MERS) and the Severe Acute Respiratory Syndrome (SARS). The most recently discovered virus in this family causes the Coronavirus Disease, COVID-19.\n",
      "Q: what is covi-19\n",
      "A:  The Coronavirus Disease is a flu-like respiratory disease that is highly contagious.\n",
      "Q: what is covid-19\n",
      "A:  The Coronavirus Disease is a flu-like respiratory disease that is highly contagious.\n",
      "Q: keep my family safe\n",
      "A:  Watch your child for any signs of illness. If you see any sign of illness consistent with symptoms of COVID-19, particularly fever, cough, or shortness of breath, call your healthcare provider and keep your child at home and away from others as much as possible.Follow CDC’s guidance on “What to do if you are sick.”\n",
      "\n",
      "Q: symptoms\n",
      "A:  Common signs of infection include runny nose, cough, fever, sore throat, and shortness of breath. In more severe cases, infection can cause pneumonia, severe acute respiratory syndrome, kidney failure, and even death.\n",
      "Q: signs\n",
      "A:  A novel coronavirus is a new coronavirus that has not been previously identied. The virus causing coronavirus\n",
      "disease 2019 (COVID-19), is not the same as the coronaviruses that commonly circulate among humans and cause\n",
      "mild illness, like the common cold.\n",
      "\n",
      "Q: depression\n",
      "A:  A novel coronavirus is a new coronavirus that has not been previously identied. The virus causing coronavirus\n",
      "disease 2019 (COVID-19), is not the same as the coronaviruses that commonly circulate among humans and cause\n",
      "mild illness, like the common cold.\n",
      "\n",
      "Q: animals\n",
      "A:  CDC does not have any evidence to suggest that imported animals or animal products pose a risk for spreading\n",
      "COVID-19 in the United States. This is a rapidly evolving situation and information will be updated as it becomes\n",
      "available. CDC, the U. S. Department of Agriculture (USDA), and the U.S. Fish and Wildlife Service (FWS) play distinct but\n",
      "complementary roles in regulating the importation of live animals and animal products into the United States.\n",
      "\n",
      "Q: can animals spread virus\n",
      "A:  Yes. This virus has been very hard to control, which suggests asymptomatic transmission, and there have been a number of studies documenting asymptomatic transmission. That’s one reason why you should stay home if someone in your household may have coronavirus infection.\n",
      "Q: when will it end\n",
      "A:  CDC and partners are investigating to determine if you can get sick with COVID-19 more than once. At this time, we are\n",
      "not sure if you can become re-infected. Until we know more, continue to take steps to protect yourself and others.\n",
      "\n",
      "Q: does it kill people\n",
      "A:  Developing a vaccine takes time, in most cases several years, as they need to undergo extensive testing in clinical trials to determine their safety and efficacy.\n",
      "Q: symptoms\n",
      "A:  Common signs of infection include runny nose, cough, fever, sore throat, and shortness of breath. In more severe cases, infection can cause pneumonia, severe acute respiratory syndrome, kidney failure, and even death.\n",
      "Q:  What is CDC doing about COVID-19\n",
      "A:  CDC is working with other federal partners in a whole-of-government response. This is an emerging, rapidly evolving\n",
      "situation and CDC will continue to provide updated information as it becomes available. CDC works 24/7 to protect\n",
      "people’s health. More information about CDC’s response to COVID-19 is available online.\n",
      "\n",
      "Q: do we have treatment?\n",
      "A:  People who have symptoms should assume they have it, isolate themselves from other people, talk to people they may have exposed in the days prior to experiencing symptoms, and recommend that those contacts self-quarantine. Mayors should reinforce this message. Having a call center or using 311 for coronavirus response could help mayors and public health officials provide these messages. Such a system can also be a way to keep track of the epidemic. If you give people experiencing symptoms the option to go online or call for help with food delivery or other services, you can log them into a database, and, to the extent that the health department is able, do contact tracing, make referrals, and offer support. \n",
      "Q: jogging\n",
      "A:  No. The majority of transmissions of this virus occur through droplet transmission. This means that a sick patient who coughs or sneezes is expelling virus through droplets that don’t travel that far. They tend to fall to surfaces within a six-foot distance. If you touch a surface that is contaminated with droplets from someone who has coughed or sneezed on it and then you touch your eyes or nose or mouth, you could potentially become infected that way. \n",
      "Q: pregnant women\n",
      "A:  Testing protocols and eligibility vary depending on where you live.\n",
      "Q: Should I stay inside the house\n",
      "A:  It is very difficult to accurately predict the surge without having sufficient testing capacity for the population. Depending on the scale of testing in the area, cities may be able to look at test results to understand the likely surge in patients coming in the ensuing 2–4 weeks. Cities should also closely monitor the hospital system to assess the number of hospitalized and ICU patients, as well as the doubling time in the growth of the number of these patients. If there is a single call center for people with symptoms, the number of calls should be tracked as one measure to watch. There are other emerging sources of data, such as fevers reported by companies that make internet-enabled thermometers.\n"
     ]
    }
   ],
   "source": [
    "while True:\n",
    "    q = input(\"Q: \")\n",
    "    q = cv_test(q)\n",
    "    ranks = np.array([cosine_similarity(q,bow_data[i]) for i in range(QA.shape[0])]).reshape(QA.shape[0],1)\n",
    "    loc = np.argmax(ranks)  \n",
    "    a = QA_dict[loc][1]\n",
    "    print(\"A: \",a)"
   ]
  },
  {
   "cell_type": "code",
   "execution_count": null,
   "metadata": {},
   "outputs": [],
   "source": []
  }
 ],
 "metadata": {
  "kernelspec": {
   "display_name": "Python [conda env:ml]",
   "language": "python",
   "name": "conda-env-ml-py"
  },
  "language_info": {
   "codemirror_mode": {
    "name": "ipython",
    "version": 3
   },
   "file_extension": ".py",
   "mimetype": "text/x-python",
   "name": "python",
   "nbconvert_exporter": "python",
   "pygments_lexer": "ipython3",
   "version": "3.6.10"
  }
 },
 "nbformat": 4,
 "nbformat_minor": 4
}
